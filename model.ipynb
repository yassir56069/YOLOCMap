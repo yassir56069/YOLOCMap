{
 "cells": [
  {
   "cell_type": "markdown",
   "metadata": {},
   "source": [
    "# YOLOCMAP Model \n"
   ]
  },
  {
   "cell_type": "markdown",
   "metadata": {},
   "source": [
    "## Dependencies\n",
    "\n",
    "This section of the notebook contains all dependencies for the repository to run appriopriately, if you are missing any dependencies check the requirements.txt. install dependencies for the environment \"yolocmapvenv\""
   ]
  },
  {
   "cell_type": "markdown",
   "metadata": {},
   "source": [
    "### Install all steps\n",
    "\n",
    "Use the requirements.txt to install all dependencies in one cell"
   ]
  },
  {
   "cell_type": "code",
   "execution_count": null,
   "metadata": {},
   "outputs": [],
   "source": [
    "%pip install -r requirements.txt"
   ]
  },
  {
   "cell_type": "markdown",
   "metadata": {},
   "source": [
    "### 1 Installing opencv-python\n",
    "\n",
    "opencv is used for real-time object detection facilities"
   ]
  },
  {
   "cell_type": "code",
   "execution_count": 2,
   "metadata": {},
   "outputs": [
    {
     "name": "stdout",
     "output_type": "stream",
     "text": [
      "Requirement already satisfied: opencv-python in c:\\users\\pcyas\\documents\\github\\yolocmap\\yolocmapvenv\\lib\\site-packages (4.10.0.84)Note: you may need to restart the kernel to use updated packages.\n",
      "\n",
      "Requirement already satisfied: numpy>=1.21.2 in c:\\users\\pcyas\\documents\\github\\yolocmap\\yolocmapvenv\\lib\\site-packages (from opencv-python) (2.0.1)\n"
     ]
    },
    {
     "name": "stderr",
     "output_type": "stream",
     "text": [
      "\n",
      "[notice] A new release of pip available: 22.3.1 -> 24.2\n",
      "[notice] To update, run: python.exe -m pip install --upgrade pip\n"
     ]
    }
   ],
   "source": [
    "%pip install opencv-python"
   ]
  },
  {
   "cell_type": "markdown",
   "metadata": {},
   "source": [
    "### 2. Install matplotlib "
   ]
  },
  {
   "cell_type": "code",
   "execution_count": 1,
   "metadata": {},
   "outputs": [],
   "source": [
    "%pip install matplotlib\n",
    "\n",
    "%pip install matplotlib.pyplot"
   ]
  },
  {
   "cell_type": "markdown",
   "metadata": {},
   "source": [
    "### 3. Install numpy"
   ]
  },
  {
   "cell_type": "code",
   "execution_count": 5,
   "metadata": {},
   "outputs": [
    {
     "name": "stdout",
     "output_type": "stream",
     "text": [
      "Requirement already satisfied: numpy in c:\\users\\pcyas\\documents\\github\\yolocmap\\yolocmapvenv\\lib\\site-packages (2.0.1)\n",
      "Note: you may need to restart the kernel to use updated packages.\n"
     ]
    },
    {
     "name": "stderr",
     "output_type": "stream",
     "text": [
      "\n",
      "[notice] A new release of pip available: 22.3.1 -> 24.2\n",
      "[notice] To update, run: python.exe -m pip install --upgrade pip\n"
     ]
    }
   ],
   "source": [
    "%pip install numpy"
   ]
  },
  {
   "cell_type": "markdown",
   "metadata": {},
   "source": [
    "### 4. Cloning darknet git repository\n",
    "\n",
    "The darknet git repository is used to optain the yolov4-tiny model at it's latest version. Clone to the \"yolocmapvnv\" environemtn"
   ]
  },
  {
   "cell_type": "code",
   "execution_count": 1,
   "metadata": {},
   "outputs": [
    {
     "name": "stderr",
     "output_type": "stream",
     "text": [
      "Cloning into 'darknet'...\n",
      "Updating files:  38% (793/2056)\n",
      "Updating files:  39% (802/2056)\n",
      "Updating files:  40% (823/2056)\n",
      "Updating files:  41% (843/2056)\n",
      "Updating files:  42% (864/2056)\n",
      "Updating files:  43% (885/2056)\n",
      "Updating files:  44% (905/2056)\n",
      "Updating files:  45% (926/2056)\n",
      "Updating files:  46% (946/2056)\n",
      "Updating files:  47% (967/2056)\n",
      "Updating files:  48% (987/2056)\n",
      "Updating files:  49% (1008/2056)\n",
      "Updating files:  50% (1028/2056)\n",
      "Updating files:  51% (1049/2056)\n",
      "Updating files:  52% (1070/2056)\n",
      "Updating files:  53% (1090/2056)\n",
      "Updating files:  54% (1111/2056)\n",
      "Updating files:  55% (1131/2056)\n",
      "Updating files:  56% (1152/2056)\n",
      "Updating files:  57% (1172/2056)\n",
      "Updating files:  58% (1193/2056)\n",
      "Updating files:  59% (1214/2056)\n",
      "Updating files:  60% (1234/2056)\n",
      "Updating files:  61% (1255/2056)\n",
      "Updating files:  62% (1275/2056)\n",
      "Updating files:  62% (1289/2056)\n",
      "Updating files:  63% (1296/2056)\n",
      "Updating files:  64% (1316/2056)\n",
      "Updating files:  65% (1337/2056)\n",
      "Updating files:  66% (1357/2056)\n",
      "Updating files:  67% (1378/2056)\n",
      "Updating files:  68% (1399/2056)\n",
      "Updating files:  69% (1419/2056)\n",
      "Updating files:  70% (1440/2056)\n",
      "Updating files:  71% (1460/2056)\n",
      "Updating files:  72% (1481/2056)\n",
      "Updating files:  73% (1501/2056)\n",
      "Updating files:  74% (1522/2056)\n",
      "Updating files:  75% (1542/2056)\n",
      "Updating files:  76% (1563/2056)\n",
      "Updating files:  77% (1584/2056)\n",
      "Updating files:  78% (1604/2056)\n",
      "Updating files:  79% (1625/2056)\n",
      "Updating files:  80% (1645/2056)\n",
      "Updating files:  81% (1666/2056)\n",
      "Updating files:  82% (1686/2056)\n",
      "Updating files:  83% (1707/2056)\n",
      "Updating files:  84% (1728/2056)\n",
      "Updating files:  85% (1748/2056)\n",
      "Updating files:  86% (1769/2056)\n",
      "Updating files:  87% (1789/2056)\n",
      "Updating files:  88% (1810/2056)\n",
      "Updating files:  89% (1830/2056)\n",
      "Updating files:  90% (1851/2056)\n",
      "Updating files:  91% (1871/2056)\n",
      "Updating files:  92% (1892/2056)\n",
      "Updating files:  93% (1913/2056)\n",
      "Updating files:  94% (1933/2056)\n",
      "Updating files:  95% (1954/2056)\n",
      "Updating files:  96% (1974/2056)\n",
      "Updating files:  97% (1995/2056)\n",
      "Updating files:  98% (2015/2056)\n",
      "Updating files:  99% (2036/2056)\n",
      "Updating files: 100% (2056/2056)\n",
      "Updating files: 100% (2056/2056), done.\n"
     ]
    }
   ],
   "source": [
    "!git clone https://github.com/AlexeyAB/darknet"
   ]
  },
  {
   "cell_type": "markdown",
   "metadata": {},
   "source": [
    "### 5. Freeze into requirements"
   ]
  },
  {
   "cell_type": "code",
   "execution_count": 6,
   "metadata": {},
   "outputs": [
    {
     "name": "stdout",
     "output_type": "stream",
     "text": [
      "Note: you may need to restart the kernel to use updated packages.\n"
     ]
    }
   ],
   "source": [
    "%pip freeze > requirements.txt"
   ]
  },
  {
   "cell_type": "markdown",
   "metadata": {},
   "source": [
    "## Imports\n",
    "\n",
    "Imports used, if any errors come from the included cell, check the dependencies"
   ]
  },
  {
   "cell_type": "code",
   "execution_count": null,
   "metadata": {},
   "outputs": [],
   "source": [
    "import cv2 \n",
    "import matplotlib.pyplot as plt\n",
    "import numpy as np"
   ]
  }
 ],
 "metadata": {
  "kernelspec": {
   "display_name": "yolocmapvenv",
   "language": "python",
   "name": "python3"
  },
  "language_info": {
   "codemirror_mode": {
    "name": "ipython",
    "version": 3
   },
   "file_extension": ".py",
   "mimetype": "text/x-python",
   "name": "python",
   "nbconvert_exporter": "python",
   "pygments_lexer": "ipython3",
   "version": "3.11.1"
  }
 },
 "nbformat": 4,
 "nbformat_minor": 2
}
