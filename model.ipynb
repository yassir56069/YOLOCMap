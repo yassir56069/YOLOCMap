{
 "cells": [
  {
   "cell_type": "markdown",
   "metadata": {},
   "source": [
    "# YOLOCMAP Model \n"
   ]
  },
  {
   "cell_type": "markdown",
   "metadata": {},
   "source": [
    "## Dependencies\n",
    "\n",
    "This section of the notebook contains all dependencies for the repository to run appriopriately, if you are missing any dependencies check the requirements.txt. install dependencies for the environment \"yolocmapvenv\"\n",
    "\n",
    "please note that this installtion uses Anaconda for all it's depedency management"
   ]
  },
  {
   "cell_type": "markdown",
   "metadata": {},
   "source": [
    "### Install all steps\n",
    "\n",
    "Use the requirements.txt to install all dependencies in one cell"
   ]
  },
  {
   "cell_type": "code",
   "execution_count": null,
   "metadata": {},
   "outputs": [],
   "source": [
    "%conda install -r requirements.txt"
   ]
  },
  {
   "cell_type": "markdown",
   "metadata": {},
   "source": [
    "### 1 Installing opencv-python\n",
    "\n",
    "opencv is used for real-time object detection facilities"
   ]
  },
  {
   "cell_type": "code",
   "execution_count": null,
   "metadata": {},
   "outputs": [
    {
     "ename": "",
     "evalue": "",
     "output_type": "error",
     "traceback": [
      "\u001b[1;31mRunning cells with 'Python 3.10.6' requires the ipykernel package.\n",
      "\u001b[1;31mRun the following command to install 'ipykernel' into the Python environment. \n",
      "\u001b[1;31mCommand: 'c:/Users/PCYas/AppData/Local/Programs/Python/Python310/python.exe -m pip install ipykernel -U --user --force-reinstall'"
     ]
    }
   ],
   "source": [
    "%conda install conda-forge::opencv"
   ]
  },
  {
   "cell_type": "markdown",
   "metadata": {},
   "source": [
    "### 2. Install matplotlib "
   ]
  },
  {
   "cell_type": "code",
   "execution_count": null,
   "metadata": {},
   "outputs": [],
   "source": [
    "%conda install matplotlib"
   ]
  },
  {
   "cell_type": "markdown",
   "metadata": {},
   "source": [
    "### 3. Install numpy"
   ]
  },
  {
   "cell_type": "code",
   "execution_count": null,
   "metadata": {},
   "outputs": [],
   "source": [
    "%conda install numpy"
   ]
  },
  {
   "cell_type": "markdown",
   "metadata": {},
   "source": [
    "### 4. Install ultralytics"
   ]
  },
  {
   "cell_type": "code",
   "execution_count": 1,
   "metadata": {},
   "outputs": [
    {
     "name": "stdout",
     "output_type": "stream",
     "text": [
      "^C\n",
      "Note: you may need to restart the kernel to use updated packages.\n"
     ]
    },
    {
     "name": "stdout",
     "output_type": "stream",
     "text": [
      "Collecting ultralytics\n",
      "  Using cached ultralytics-8.2.92-py3-none-any.whl (871 kB)\n",
      "Requirement already satisfied: py-cpuinfo in c:\\users\\pcyas\\appdata\\local\\programs\\python\\python310\\lib\\site-packages (from ultralytics) (9.0.0)\n",
      "Collecting ultralytics-thop>=2.0.0\n",
      "  Using cached ultralytics_thop-2.0.6-py3-none-any.whl (26 kB)\n",
      "Collecting torch!=2.4.0,>=1.8.0\n",
      "  Using cached torch-2.4.1-cp310-cp310-win_amd64.whl (199.4 MB)\n",
      "Collecting requests>=2.23.0\n",
      "  Using cached requests-2.32.3-py3-none-any.whl (64 kB)\n",
      "Requirement already satisfied: tqdm>=4.64.0 in c:\\users\\pcyas\\appdata\\local\\programs\\python\\python310\\lib\\site-packages (from ultralytics) (4.66.5)\n",
      "Requirement already satisfied: pyyaml>=5.3.1 in c:\\users\\pcyas\\appdata\\local\\programs\\python\\python310\\lib\\site-packages (from ultralytics) (6.0.2)\n",
      "Collecting pandas>=1.1.4\n",
      "  Using cached pandas-2.2.2-cp310-cp310-win_amd64.whl (11.6 MB)\n",
      "Collecting scipy>=1.4.1\n",
      "  Using cached scipy-1.14.1-cp310-cp310-win_amd64.whl (44.8 MB)\n",
      "Collecting torchvision>=0.9.0\n",
      "  Using cached torchvision-0.19.1-cp310-cp310-win_amd64.whl (1.3 MB)\n",
      "Requirement already satisfied: psutil in c:\\users\\pcyas\\appdata\\roaming\\python\\python310\\site-packages (from ultralytics) (6.0.0)\n",
      "Collecting opencv-python>=4.6.0\n",
      "  Using cached opencv_python-4.10.0.84-cp37-abi3-win_amd64.whl (38.8 MB)\n",
      "Requirement already satisfied: pillow>=7.1.2 in c:\\users\\pcyas\\appdata\\local\\programs\\python\\python310\\lib\\site-packages (from ultralytics) (10.4.0)\n",
      "Requirement already satisfied: numpy<2.0.0,>=1.23.0 in c:\\users\\pcyas\\appdata\\local\\programs\\python\\python310\\lib\\site-packages (from ultralytics) (1.26.4)\n",
      "Collecting seaborn>=0.11.0\n",
      "  Using cached seaborn-0.13.2-py3-none-any.whl (294 kB)\n",
      "Collecting matplotlib>=3.3.0\n",
      "  Using cached matplotlib-3.9.2-cp310-cp310-win_amd64.whl (7.8 MB)\n",
      "Collecting fonttools>=4.22.0\n",
      "  Using cached fonttools-4.53.1-cp310-cp310-win_amd64.whl (2.2 MB)\n",
      "Requirement already satisfied: python-dateutil>=2.7 in c:\\users\\pcyas\\appdata\\roaming\\python\\python310\\site-packages (from matplotlib>=3.3.0->ultralytics) (2.9.0.post0)\n",
      "Collecting contourpy>=1.0.1\n",
      "  Using cached contourpy-1.3.0-cp310-cp310-win_amd64.whl (216 kB)\n",
      "Collecting kiwisolver>=1.3.1\n",
      "  Using cached kiwisolver-1.4.7-cp310-cp310-win_amd64.whl (55 kB)\n",
      "Collecting cycler>=0.10\n",
      "  Using cached cycler-0.12.1-py3-none-any.whl (8.3 kB)\n",
      "Requirement already satisfied: pyparsing>=2.3.1 in c:\\users\\pcyas\\appdata\\local\\programs\\python\\python310\\lib\\site-packages (from matplotlib>=3.3.0->ultralytics) (3.1.4)\n",
      "Requirement already satisfied: packaging>=20.0 in c:\\users\\pcyas\\appdata\\roaming\\python\\python310\\site-packages (from matplotlib>=3.3.0->ultralytics) (24.1)\n",
      "Requirement already satisfied: pytz>=2020.1 in c:\\users\\pcyas\\appdata\\local\\programs\\python\\python310\\lib\\site-packages (from pandas>=1.1.4->ultralytics) (2024.2)\n",
      "Requirement already satisfied: tzdata>=2022.7 in c:\\users\\pcyas\\appdata\\local\\programs\\python\\python310\\lib\\site-packages (from pandas>=1.1.4->ultralytics) (2024.1)\n",
      "Collecting idna<4,>=2.5\n",
      "  Using cached idna-3.8-py3-none-any.whl (66 kB)\n",
      "Collecting certifi>=2017.4.17\n",
      "  Using cached certifi-2024.8.30-py3-none-any.whl (167 kB)\n",
      "Collecting charset-normalizer<4,>=2\n",
      "  Using cached charset_normalizer-3.3.2-cp310-cp310-win_amd64.whl (100 kB)\n",
      "Requirement already satisfied: urllib3<3,>=1.21.1 in c:\\users\\pcyas\\appdata\\local\\programs\\python\\python310\\lib\\site-packages (from requests>=2.23.0->ultralytics) (2.2.3)\n",
      "Collecting fsspec\n",
      "  Using cached fsspec-2024.9.0-py3-none-any.whl (179 kB)\n",
      "Collecting jinja2\n",
      "  Using cached jinja2-3.1.4-py3-none-any.whl (133 kB)\n",
      "Collecting filelock\n",
      "  Using cached filelock-3.16.0-py3-none-any.whl (16 kB)\n",
      "Collecting networkx\n",
      "  Using cached networkx-3.3-py3-none-any.whl (1.7 MB)\n",
      "Requirement already satisfied: sympy in c:\\users\\pcyas\\appdata\\local\\programs\\python\\python310\\lib\\site-packages (from torch!=2.4.0,>=1.8.0->ultralytics) (1.13.2)\n",
      "Requirement already satisfied: typing-extensions>=4.8.0 in c:\\users\\pcyas\\appdata\\roaming\\python\\python310\\site-packages (from torch!=2.4.0,>=1.8.0->ultralytics) (4.12.2)\n",
      "Requirement already satisfied: colorama in c:\\users\\pcyas\\appdata\\roaming\\python\\python310\\site-packages (from tqdm>=4.64.0->ultralytics) (0.4.6)\n",
      "Requirement already satisfied: six>=1.5 in c:\\users\\pcyas\\appdata\\roaming\\python\\python310\\site-packages (from python-dateutil>=2.7->matplotlib>=3.3.0->ultralytics) (1.16.0)\n",
      "Collecting MarkupSafe>=2.0\n",
      "  Using cached MarkupSafe-2.1.5-cp310-cp310-win_amd64.whl (17 kB)\n",
      "Requirement already satisfied: mpmath<1.4,>=1.1.0 in c:\\users\\pcyas\\appdata\\local\\programs\\python\\python310\\lib\\site-packages (from sympy->torch!=2.4.0,>=1.8.0->ultralytics) (1.3.0)\n",
      "Installing collected packages: scipy, opencv-python, networkx, MarkupSafe, kiwisolver, idna, fsspec, fonttools, filelock, cycler, contourpy, charset-normalizer, certifi, requests, pandas, matplotlib, jinja2, torch, seaborn, ultralytics-thop, torchvision, ultralytics\n"
     ]
    },
    {
     "name": "stderr",
     "output_type": "stream",
     "text": [
      "ERROR: Could not install packages due to an OSError: [WinError 32] The process cannot access the file because it is being used by another process: 'c:\\\\Users\\\\PCYas\\\\AppData\\\\Local\\\\Programs\\\\Python\\\\Python310\\\\Lib\\\\site-packages\\\\torch\\\\include\\\\c10\\\\cuda\\\\CUDAGraphsC10Utils.h'\n",
      "Consider using the `--user` option or check the permissions.\n",
      "\n",
      "\n",
      "[notice] A new release of pip available: 22.2.1 -> 24.2\n",
      "[notice] To update, run: python.exe -m pip install --upgrade pip\n"
     ]
    }
   ],
   "source": [
    "%pip install ultralytics"
   ]
  },
  {
   "cell_type": "markdown",
   "metadata": {},
   "source": [
    "### 5. Freeze into requirements"
   ]
  },
  {
   "cell_type": "code",
   "execution_count": null,
   "metadata": {},
   "outputs": [],
   "source": [
    "%pip freeze > requirements.txt"
   ]
  },
  {
   "cell_type": "markdown",
   "metadata": {},
   "source": [
    "## Imports\n",
    "\n",
    "Imports used, if any errors come from the included cell, check the dependencies"
   ]
  },
  {
   "cell_type": "code",
   "execution_count": 1,
   "metadata": {},
   "outputs": [
    {
     "name": "stdout",
     "output_type": "stream",
     "text": [
      "WARNING  Ultralytics settings reset to default values. This may be due to a possible problem with your settings or a recent ultralytics package update. \n",
      "View settings with 'yolo settings' or at 'C:\\Users\\PCYas\\AppData\\Roaming\\Ultralytics\\settings.yaml'\n",
      "Update settings with 'yolo settings key=value', i.e. 'yolo settings runs_dir=path/to/dir'. For help see https://docs.ultralytics.com/quickstart/#ultralytics-settings.\n"
     ]
    }
   ],
   "source": [
    "from ultralytics import YOLO\n"
   ]
  },
  {
   "cell_type": "markdown",
   "metadata": {},
   "source": [
    "## Model \n",
    "houses the model itself and it's version information"
   ]
  },
  {
   "cell_type": "markdown",
   "metadata": {},
   "source": [
    "### Initialize model"
   ]
  },
  {
   "cell_type": "code",
   "execution_count": 2,
   "metadata": {},
   "outputs": [],
   "source": [
    "model = YOLO('yolov8n.yaml') # build a new model from scratch"
   ]
  },
  {
   "cell_type": "markdown",
   "metadata": {},
   "source": [
    "### Train model"
   ]
  },
  {
   "cell_type": "code",
   "execution_count": 4,
   "metadata": {},
   "outputs": [
    {
     "name": "stdout",
     "output_type": "stream",
     "text": [
      "New https://pypi.org/project/ultralytics/8.2.94 available  Update with 'pip install -U ultralytics'\n",
      "Ultralytics YOLOv8.2.92  Python-3.10.14 torch-2.4.1+cpu CPU (Intel Core(TM) i5-6500 3.20GHz)\n",
      "\u001b[34m\u001b[1mengine\\trainer: \u001b[0mtask=detect, mode=train, model=yolov8n.yaml, data=config.yaml, epochs=100, time=None, patience=100, batch=16, imgsz=640, save=True, save_period=-1, cache=False, device=None, workers=8, project=None, name=train4, exist_ok=False, pretrained=True, optimizer=auto, verbose=True, seed=0, deterministic=True, single_cls=False, rect=False, cos_lr=False, close_mosaic=10, resume=False, amp=True, fraction=1.0, profile=False, freeze=None, multi_scale=False, overlap_mask=True, mask_ratio=4, dropout=0.0, val=True, split=val, save_json=False, save_hybrid=False, conf=None, iou=0.7, max_det=300, half=False, dnn=False, plots=True, source=None, vid_stride=1, stream_buffer=False, visualize=False, augment=False, agnostic_nms=False, classes=None, retina_masks=False, embed=None, show=False, save_frames=False, save_txt=False, save_conf=False, save_crop=False, show_labels=True, show_conf=True, show_boxes=True, line_width=None, format=torchscript, keras=False, optimize=False, int8=False, dynamic=False, simplify=False, opset=None, workspace=4, nms=False, lr0=0.01, lrf=0.01, momentum=0.937, weight_decay=0.0005, warmup_epochs=3.0, warmup_momentum=0.8, warmup_bias_lr=0.1, box=7.5, cls=0.5, dfl=1.5, pose=12.0, kobj=1.0, label_smoothing=0.0, nbs=64, hsv_h=0.015, hsv_s=0.7, hsv_v=0.4, degrees=0.0, translate=0.1, scale=0.5, shear=0.0, perspective=0.0, flipud=0.0, fliplr=0.5, bgr=0.0, mosaic=1.0, mixup=0.0, copy_paste=0.0, auto_augment=randaugment, erasing=0.4, crop_fraction=1.0, cfg=None, tracker=botsort.yaml, save_dir=runs\\detect\\train4\n",
      "Overriding model.yaml nc=80 with nc=1\n",
      "\n",
      "                   from  n    params  module                                       arguments                     \n",
      "  0                  -1  1       464  ultralytics.nn.modules.conv.Conv             [3, 16, 3, 2]                 \n",
      "  1                  -1  1      4672  ultralytics.nn.modules.conv.Conv             [16, 32, 3, 2]                \n",
      "  2                  -1  1      7360  ultralytics.nn.modules.block.C2f             [32, 32, 1, True]             \n",
      "  3                  -1  1     18560  ultralytics.nn.modules.conv.Conv             [32, 64, 3, 2]                \n",
      "  4                  -1  2     49664  ultralytics.nn.modules.block.C2f             [64, 64, 2, True]             \n",
      "  5                  -1  1     73984  ultralytics.nn.modules.conv.Conv             [64, 128, 3, 2]               \n",
      "  6                  -1  2    197632  ultralytics.nn.modules.block.C2f             [128, 128, 2, True]           \n",
      "  7                  -1  1    295424  ultralytics.nn.modules.conv.Conv             [128, 256, 3, 2]              \n",
      "  8                  -1  1    460288  ultralytics.nn.modules.block.C2f             [256, 256, 1, True]           \n",
      "  9                  -1  1    164608  ultralytics.nn.modules.block.SPPF            [256, 256, 5]                 \n",
      " 10                  -1  1         0  torch.nn.modules.upsampling.Upsample         [None, 2, 'nearest']          \n",
      " 11             [-1, 6]  1         0  ultralytics.nn.modules.conv.Concat           [1]                           \n",
      " 12                  -1  1    148224  ultralytics.nn.modules.block.C2f             [384, 128, 1]                 \n",
      " 13                  -1  1         0  torch.nn.modules.upsampling.Upsample         [None, 2, 'nearest']          \n",
      " 14             [-1, 4]  1         0  ultralytics.nn.modules.conv.Concat           [1]                           \n",
      " 15                  -1  1     37248  ultralytics.nn.modules.block.C2f             [192, 64, 1]                  \n",
      " 16                  -1  1     36992  ultralytics.nn.modules.conv.Conv             [64, 64, 3, 2]                \n",
      " 17            [-1, 12]  1         0  ultralytics.nn.modules.conv.Concat           [1]                           \n",
      " 18                  -1  1    123648  ultralytics.nn.modules.block.C2f             [192, 128, 1]                 \n",
      " 19                  -1  1    147712  ultralytics.nn.modules.conv.Conv             [128, 128, 3, 2]              \n",
      " 20             [-1, 9]  1         0  ultralytics.nn.modules.conv.Concat           [1]                           \n",
      " 21                  -1  1    493056  ultralytics.nn.modules.block.C2f             [384, 256, 1]                 \n",
      " 22        [15, 18, 21]  1    751507  ultralytics.nn.modules.head.Detect           [1, [64, 128, 256]]           \n",
      "YOLOv8n summary: 225 layers, 3,011,043 parameters, 3,011,027 gradients, 8.2 GFLOPs\n",
      "\n",
      "\u001b[34m\u001b[1mTensorBoard: \u001b[0mStart with 'tensorboard --logdir runs\\detect\\train4', view at http://localhost:6006/\n",
      "Freezing layer 'model.22.dfl.conv.weight'\n"
     ]
    },
    {
     "name": "stderr",
     "output_type": "stream",
     "text": [
      "\u001b[34m\u001b[1mtrain: \u001b[0mScanning C:\\yolocmapmodel\\archive\\data\\labels\\train... 3748 images, 684 backgrounds, 206 corrupt: 100%|██████████| 3748/3748 [00:14<00:00, 265.63it/s]"
     ]
    },
    {
     "name": "stdout",
     "output_type": "stream",
     "text": [
      "\u001b[34m\u001b[1mtrain: \u001b[0mWARNING  C:\\yolocmapmodel\\archive\\data\\images\\train\\000000006.jpg: ignoring corrupt image/label: negative label values [ -0.0019196]\n",
      "\u001b[34m\u001b[1mtrain: \u001b[0mWARNING  C:\\yolocmapmodel\\archive\\data\\images\\train\\000000131.jpg: ignoring corrupt image/label: negative label values [ -0.0019196]\n",
      "\u001b[34m\u001b[1mtrain: \u001b[0mWARNING  C:\\yolocmapmodel\\archive\\data\\images\\train\\000000192.jpg: ignoring corrupt image/label: negative label values [-0.00015625]\n",
      "\u001b[34m\u001b[1mtrain: \u001b[0mWARNING  C:\\yolocmapmodel\\archive\\data\\images\\train\\000000194.jpg: ignoring corrupt image/label: negative label values [-0.00015625]\n",
      "\u001b[34m\u001b[1mtrain: \u001b[0mWARNING  C:\\yolocmapmodel\\archive\\data\\images\\train\\000000211.jpg: ignoring corrupt image/label: negative label values [ -0.0033482]\n",
      "\u001b[34m\u001b[1mtrain: \u001b[0mWARNING  C:\\yolocmapmodel\\archive\\data\\images\\train\\000000214.jpg: ignoring corrupt image/label: negative label values [ -0.0033482]\n",
      "\u001b[34m\u001b[1mtrain: \u001b[0mWARNING  C:\\yolocmapmodel\\archive\\data\\images\\train\\000000220.jpg: ignoring corrupt image/label: negative label values [ -0.0010714]\n",
      "\u001b[34m\u001b[1mtrain: \u001b[0mWARNING  C:\\yolocmapmodel\\archive\\data\\images\\train\\000000222.jpg: ignoring corrupt image/label: negative label values [ -0.0010714]\n",
      "\u001b[34m\u001b[1mtrain: \u001b[0mWARNING  C:\\yolocmapmodel\\archive\\data\\images\\train\\000000224.jpg: ignoring corrupt image/label: negative label values [-0.00064732]\n",
      "\u001b[34m\u001b[1mtrain: \u001b[0mWARNING  C:\\yolocmapmodel\\archive\\data\\images\\train\\000000225.jpg: ignoring corrupt image/label: negative label values [-0.00064732]\n",
      "\u001b[34m\u001b[1mtrain: \u001b[0mWARNING  C:\\yolocmapmodel\\archive\\data\\images\\train\\000000230.jpg: ignoring corrupt image/label: negative label values [ -0.0027232]\n",
      "\u001b[34m\u001b[1mtrain: \u001b[0mWARNING  C:\\yolocmapmodel\\archive\\data\\images\\train\\000000231.jpg: ignoring corrupt image/label: negative label values [ -0.0027232]\n",
      "\u001b[34m\u001b[1mtrain: \u001b[0mWARNING  C:\\yolocmapmodel\\archive\\data\\images\\train\\000000260.jpg: ignoring corrupt image/label: negative label values [ -0.0040625]\n",
      "\u001b[34m\u001b[1mtrain: \u001b[0mWARNING  C:\\yolocmapmodel\\archive\\data\\images\\train\\000000353.jpg: ignoring corrupt image/label: negative label values [ -0.0027232]\n",
      "\u001b[34m\u001b[1mtrain: \u001b[0mWARNING  C:\\yolocmapmodel\\archive\\data\\images\\train\\000000354.jpg: ignoring corrupt image/label: negative label values [ -0.0027232]\n",
      "\u001b[34m\u001b[1mtrain: \u001b[0mWARNING  C:\\yolocmapmodel\\archive\\data\\images\\train\\000000401.jpg: ignoring corrupt image/label: negative label values [ -0.0014286]\n",
      "\u001b[34m\u001b[1mtrain: \u001b[0mWARNING  C:\\yolocmapmodel\\archive\\data\\images\\train\\000000403.jpg: ignoring corrupt image/label: negative label values [ -0.0014286]\n",
      "\u001b[34m\u001b[1mtrain: \u001b[0mWARNING  C:\\yolocmapmodel\\archive\\data\\images\\train\\000000405.jpg: ignoring corrupt image/label: negative label values [ -0.0040625]\n",
      "\u001b[34m\u001b[1mtrain: \u001b[0mWARNING  C:\\yolocmapmodel\\archive\\data\\images\\train\\000000410.jpg: ignoring corrupt image/label: negative label values [-0.00064732]\n",
      "\u001b[34m\u001b[1mtrain: \u001b[0mWARNING  C:\\yolocmapmodel\\archive\\data\\images\\train\\000000516.jpg: ignoring corrupt image/label: negative label values [ -0.0014509]\n",
      "\u001b[34m\u001b[1mtrain: \u001b[0mWARNING  C:\\yolocmapmodel\\archive\\data\\images\\train\\000000517.jpg: ignoring corrupt image/label: negative label values [ -0.0014509]\n",
      "\u001b[34m\u001b[1mtrain: \u001b[0mWARNING  C:\\yolocmapmodel\\archive\\data\\images\\train\\000000528.jpg: ignoring corrupt image/label: negative label values [ -0.0033482]\n",
      "\u001b[34m\u001b[1mtrain: \u001b[0mWARNING  C:\\yolocmapmodel\\archive\\data\\images\\train\\000000529.jpg: ignoring corrupt image/label: negative label values [ -0.0033482]\n",
      "\u001b[34m\u001b[1mtrain: \u001b[0mWARNING  C:\\yolocmapmodel\\archive\\data\\images\\train\\000000551.jpg: ignoring corrupt image/label: negative label values [-0.00064732]\n",
      "\u001b[34m\u001b[1mtrain: \u001b[0mWARNING  C:\\yolocmapmodel\\archive\\data\\images\\train\\000000656.jpg: ignoring corrupt image/label: negative label values [ -0.0015179]\n",
      "\u001b[34m\u001b[1mtrain: \u001b[0mWARNING  C:\\yolocmapmodel\\archive\\data\\images\\train\\000000658.jpg: ignoring corrupt image/label: negative label values [ -0.0015179]\n",
      "\u001b[34m\u001b[1mtrain: \u001b[0mWARNING  C:\\yolocmapmodel\\archive\\data\\images\\train\\000000675.jpg: ignoring corrupt image/label: negative label values [ -0.0034152]\n",
      "\u001b[34m\u001b[1mtrain: \u001b[0mWARNING  C:\\yolocmapmodel\\archive\\data\\images\\train\\000000769.jpg: ignoring corrupt image/label: negative label values [ -0.0024777]\n",
      "\u001b[34m\u001b[1mtrain: \u001b[0mWARNING  C:\\yolocmapmodel\\archive\\data\\images\\train\\000000770.jpg: ignoring corrupt image/label: negative label values [ -0.0024777]\n",
      "\u001b[34m\u001b[1mtrain: \u001b[0mWARNING  C:\\yolocmapmodel\\archive\\data\\images\\train\\000000797.jpg: ignoring corrupt image/label: negative label values [ -0.0034152]\n",
      "\u001b[34m\u001b[1mtrain: \u001b[0mWARNING  C:\\yolocmapmodel\\archive\\data\\images\\train\\000000868.jpg: ignoring corrupt image/label: negative label values [ -0.0043973]\n",
      "\u001b[34m\u001b[1mtrain: \u001b[0mWARNING  C:\\yolocmapmodel\\archive\\data\\images\\train\\000000869.jpg: ignoring corrupt image/label: negative label values [ -0.0043973]\n",
      "\u001b[34m\u001b[1mtrain: \u001b[0mWARNING  C:\\yolocmapmodel\\archive\\data\\images\\train\\000000902.jpg: ignoring corrupt image/label: negative label values [ -0.0015179]\n",
      "\u001b[34m\u001b[1mtrain: \u001b[0mWARNING  C:\\yolocmapmodel\\archive\\data\\images\\train\\000000903.jpg: ignoring corrupt image/label: negative label values [ -0.0015179]\n",
      "\u001b[34m\u001b[1mtrain: \u001b[0mWARNING  C:\\yolocmapmodel\\archive\\data\\images\\train\\000000938.jpg: ignoring corrupt image/label: negative label values [ -0.0010045  -0.0043304]\n",
      "\u001b[34m\u001b[1mtrain: \u001b[0mWARNING  C:\\yolocmapmodel\\archive\\data\\images\\train\\000000941.jpg: ignoring corrupt image/label: negative label values [-0.00037946]\n",
      "\u001b[34m\u001b[1mtrain: \u001b[0mWARNING  C:\\yolocmapmodel\\archive\\data\\images\\train\\000000947.jpg: ignoring corrupt image/label: negative label values [ -0.0035268]\n",
      "\u001b[34m\u001b[1mtrain: \u001b[0mWARNING  C:\\yolocmapmodel\\archive\\data\\images\\train\\000000948.jpg: ignoring corrupt image/label: negative label values [ -0.0035268]\n",
      "\u001b[34m\u001b[1mtrain: \u001b[0mWARNING  C:\\yolocmapmodel\\archive\\data\\images\\train\\000000958.jpg: ignoring corrupt image/label: negative label values [ -0.0010938]\n",
      "\u001b[34m\u001b[1mtrain: \u001b[0mWARNING  C:\\yolocmapmodel\\archive\\data\\images\\train\\000000960.jpg: ignoring corrupt image/label: negative label values [ -0.0010938]\n",
      "\u001b[34m\u001b[1mtrain: \u001b[0mWARNING  C:\\yolocmapmodel\\archive\\data\\images\\train\\000000969.jpg: ignoring corrupt image/label: negative label values [ -0.0035268]\n",
      "\u001b[34m\u001b[1mtrain: \u001b[0mWARNING  C:\\yolocmapmodel\\archive\\data\\images\\train\\000001016.jpg: ignoring corrupt image/label: negative label values [ -0.0041071]\n",
      "\u001b[34m\u001b[1mtrain: \u001b[0mWARNING  C:\\yolocmapmodel\\archive\\data\\images\\train\\000001018.jpg: ignoring corrupt image/label: negative label values [ -0.0041071]\n",
      "\u001b[34m\u001b[1mtrain: \u001b[0mWARNING  C:\\yolocmapmodel\\archive\\data\\images\\train\\000001021.jpg: ignoring corrupt image/label: negative label values [  -0.002433]\n",
      "\u001b[34m\u001b[1mtrain: \u001b[0mWARNING  C:\\yolocmapmodel\\archive\\data\\images\\train\\000001049.jpg: ignoring corrupt image/label: negative label values [ -0.0010045  -0.0043304]\n",
      "\u001b[34m\u001b[1mtrain: \u001b[0mWARNING  C:\\yolocmapmodel\\archive\\data\\images\\train\\000001052.jpg: ignoring corrupt image/label: negative label values [ -0.0041741]\n",
      "\u001b[34m\u001b[1mtrain: \u001b[0mWARNING  C:\\yolocmapmodel\\archive\\data\\images\\train\\000001081.jpg: ignoring corrupt image/label: negative label values [ -0.0027232]\n",
      "\u001b[34m\u001b[1mtrain: \u001b[0mWARNING  C:\\yolocmapmodel\\archive\\data\\images\\train\\000001083.jpg: ignoring corrupt image/label: negative label values [ -0.0027232]\n",
      "\u001b[34m\u001b[1mtrain: \u001b[0mWARNING  C:\\yolocmapmodel\\archive\\data\\images\\train\\000001121.jpg: ignoring corrupt image/label: negative label values [ -0.0023438]\n",
      "\u001b[34m\u001b[1mtrain: \u001b[0mWARNING  C:\\yolocmapmodel\\archive\\data\\images\\train\\000001122.jpg: ignoring corrupt image/label: negative label values [ -0.0023438]\n",
      "\u001b[34m\u001b[1mtrain: \u001b[0mWARNING  C:\\yolocmapmodel\\archive\\data\\images\\train\\000001136.jpg: ignoring corrupt image/label: negative label values [ -0.0020312]\n",
      "\u001b[34m\u001b[1mtrain: \u001b[0mWARNING  C:\\yolocmapmodel\\archive\\data\\images\\train\\000001138.jpg: ignoring corrupt image/label: negative label values [  -0.002433]\n",
      "\u001b[34m\u001b[1mtrain: \u001b[0mWARNING  C:\\yolocmapmodel\\archive\\data\\images\\train\\000001220.jpg: ignoring corrupt image/label: negative label values [ -0.0040848]\n",
      "\u001b[34m\u001b[1mtrain: \u001b[0mWARNING  C:\\yolocmapmodel\\archive\\data\\images\\train\\000001222.jpg: ignoring corrupt image/label: negative label values [ -0.0040848]\n",
      "\u001b[34m\u001b[1mtrain: \u001b[0mWARNING  C:\\yolocmapmodel\\archive\\data\\images\\train\\000001237.jpg: ignoring corrupt image/label: negative label values [ -0.0022991]\n",
      "\u001b[34m\u001b[1mtrain: \u001b[0mWARNING  C:\\yolocmapmodel\\archive\\data\\images\\train\\000001238.jpg: ignoring corrupt image/label: negative label values [ -0.0022991]\n",
      "\u001b[34m\u001b[1mtrain: \u001b[0mWARNING  C:\\yolocmapmodel\\archive\\data\\images\\train\\000001250.jpg: ignoring corrupt image/label: negative label values [ -0.0020312]\n",
      "\u001b[34m\u001b[1mtrain: \u001b[0mWARNING  C:\\yolocmapmodel\\archive\\data\\images\\train\\000001349.jpg: ignoring corrupt image/label: negative label values [ -0.0016518]\n",
      "\u001b[34m\u001b[1mtrain: \u001b[0mWARNING  C:\\yolocmapmodel\\archive\\data\\images\\train\\000001379.jpg: ignoring corrupt image/label: negative label values [  -0.001942]\n",
      "\u001b[34m\u001b[1mtrain: \u001b[0mWARNING  C:\\yolocmapmodel\\archive\\data\\images\\train\\000001381.jpg: ignoring corrupt image/label: negative label values [  -0.001942]\n",
      "\u001b[34m\u001b[1mtrain: \u001b[0mWARNING  C:\\yolocmapmodel\\archive\\data\\images\\train\\000001399.jpg: ignoring corrupt image/label: negative label values [ -0.0043304]\n",
      "\u001b[34m\u001b[1mtrain: \u001b[0mWARNING  C:\\yolocmapmodel\\archive\\data\\images\\train\\000001402.jpg: ignoring corrupt image/label: negative label values [ -0.0043304]\n",
      "\u001b[34m\u001b[1mtrain: \u001b[0mWARNING  C:\\yolocmapmodel\\archive\\data\\images\\train\\000001468.jpg: ignoring corrupt image/label: negative label values [ -0.0016518  -0.0042634]\n",
      "\u001b[34m\u001b[1mtrain: \u001b[0mWARNING  C:\\yolocmapmodel\\archive\\data\\images\\train\\000001470.jpg: ignoring corrupt image/label: negative label values [ -0.0042634]\n",
      "\u001b[34m\u001b[1mtrain: \u001b[0mWARNING  C:\\yolocmapmodel\\archive\\data\\images\\train\\000001503.jpg: ignoring corrupt image/label: negative label values [ -0.0025893 -0.00091518]\n",
      "\u001b[34m\u001b[1mtrain: \u001b[0mWARNING  C:\\yolocmapmodel\\archive\\data\\images\\train\\000001514.jpg: ignoring corrupt image/label: negative label values [ -0.0016071]\n",
      "\u001b[34m\u001b[1mtrain: \u001b[0mWARNING  C:\\yolocmapmodel\\archive\\data\\images\\train\\000001515.jpg: ignoring corrupt image/label: negative label values [ -0.0016071]\n",
      "\u001b[34m\u001b[1mtrain: \u001b[0mWARNING  C:\\yolocmapmodel\\archive\\data\\images\\train\\000001518.jpg: ignoring corrupt image/label: negative label values [ -0.0027009]\n",
      "\u001b[34m\u001b[1mtrain: \u001b[0mWARNING  C:\\yolocmapmodel\\archive\\data\\images\\train\\000001519.jpg: ignoring corrupt image/label: negative label values [ -0.0027009]\n",
      "\u001b[34m\u001b[1mtrain: \u001b[0mWARNING  C:\\yolocmapmodel\\archive\\data\\images\\train\\000001567.jpg: ignoring corrupt image/label: negative label values [-0.00091518]\n",
      "\u001b[34m\u001b[1mtrain: \u001b[0mWARNING  C:\\yolocmapmodel\\archive\\data\\images\\train\\000001569.jpg: ignoring corrupt image/label: negative label values [-0.00091518]\n",
      "\u001b[34m\u001b[1mtrain: \u001b[0mWARNING  C:\\yolocmapmodel\\archive\\data\\images\\train\\000001690.jpg: ignoring corrupt image/label: negative label values [ -0.0037054]\n",
      "\u001b[34m\u001b[1mtrain: \u001b[0mWARNING  C:\\yolocmapmodel\\archive\\data\\images\\train\\000001691.jpg: ignoring corrupt image/label: negative label values [ -0.0037054]\n",
      "\u001b[34m\u001b[1mtrain: \u001b[0mWARNING  C:\\yolocmapmodel\\archive\\data\\images\\train\\000001726.jpg: ignoring corrupt image/label: negative label values [ -0.0033705]\n",
      "\u001b[34m\u001b[1mtrain: \u001b[0mWARNING  C:\\yolocmapmodel\\archive\\data\\images\\train\\000001728.jpg: ignoring corrupt image/label: negative label values [ -0.0033705]\n",
      "\u001b[34m\u001b[1mtrain: \u001b[0mWARNING  C:\\yolocmapmodel\\archive\\data\\images\\train\\000001742.jpg: ignoring corrupt image/label: negative label values [  -0.003058]\n",
      "\u001b[34m\u001b[1mtrain: \u001b[0mWARNING  C:\\yolocmapmodel\\archive\\data\\images\\train\\000001744.jpg: ignoring corrupt image/label: negative label values [  -0.003058]\n",
      "\u001b[34m\u001b[1mtrain: \u001b[0mWARNING  C:\\yolocmapmodel\\archive\\data\\images\\train\\000001843.jpg: ignoring corrupt image/label: negative label values [-0.00053571]\n",
      "\u001b[34m\u001b[1mtrain: \u001b[0mWARNING  C:\\yolocmapmodel\\archive\\data\\images\\train\\000001844.jpg: ignoring corrupt image/label: negative label values [-0.00053571]\n",
      "\u001b[34m\u001b[1mtrain: \u001b[0mWARNING  C:\\yolocmapmodel\\archive\\data\\images\\train\\000001889.jpg: ignoring corrupt image/label: negative label values [ -0.0016295]\n",
      "\u001b[34m\u001b[1mtrain: \u001b[0mWARNING  C:\\yolocmapmodel\\archive\\data\\images\\train\\000001892.jpg: ignoring corrupt image/label: negative label values [ -0.0016295]\n",
      "\u001b[34m\u001b[1mtrain: \u001b[0mWARNING  C:\\yolocmapmodel\\archive\\data\\images\\train\\000001894.jpg: ignoring corrupt image/label: negative label values [ -0.0025893]\n",
      "\u001b[34m\u001b[1mtrain: \u001b[0mWARNING  C:\\yolocmapmodel\\archive\\data\\images\\train\\000001895.jpg: ignoring corrupt image/label: negative label values [ -0.0025893]\n",
      "\u001b[34m\u001b[1mtrain: \u001b[0mWARNING  C:\\yolocmapmodel\\archive\\data\\images\\train\\000001958.jpg: ignoring corrupt image/label: negative label values [ -0.0027455]\n",
      "\u001b[34m\u001b[1mtrain: \u001b[0mWARNING  C:\\yolocmapmodel\\archive\\data\\images\\train\\000001961.jpg: ignoring corrupt image/label: negative label values [ -0.0027455]\n",
      "\u001b[34m\u001b[1mtrain: \u001b[0mWARNING  C:\\yolocmapmodel\\archive\\data\\images\\train\\000002019.jpg: ignoring corrupt image/label: negative label values [-0.00011161]\n",
      "\u001b[34m\u001b[1mtrain: \u001b[0mWARNING  C:\\yolocmapmodel\\archive\\data\\images\\train\\000002022.jpg: ignoring corrupt image/label: negative label values [-0.00011161]\n",
      "\u001b[34m\u001b[1mtrain: \u001b[0mWARNING  C:\\yolocmapmodel\\archive\\data\\images\\train\\000002074.jpg: ignoring corrupt image/label: negative label values [ -0.0043304]\n",
      "\u001b[34m\u001b[1mtrain: \u001b[0mWARNING  C:\\yolocmapmodel\\archive\\data\\images\\train\\000002076.jpg: ignoring corrupt image/label: negative label values [ -0.0029018]\n",
      "\u001b[34m\u001b[1mtrain: \u001b[0mWARNING  C:\\yolocmapmodel\\archive\\data\\images\\train\\000002078.jpg: ignoring corrupt image/label: negative label values [ -0.0029018]\n",
      "\u001b[34m\u001b[1mtrain: \u001b[0mWARNING  C:\\yolocmapmodel\\archive\\data\\images\\train\\000002129.jpg: ignoring corrupt image/label: negative label values [-0.00091518]\n",
      "\u001b[34m\u001b[1mtrain: \u001b[0mWARNING  C:\\yolocmapmodel\\archive\\data\\images\\train\\000002131.jpg: ignoring corrupt image/label: negative label values [-0.00091518 -4.4643e-05]\n",
      "\u001b[34m\u001b[1mtrain: \u001b[0mWARNING  C:\\yolocmapmodel\\archive\\data\\images\\train\\000002133.jpg: ignoring corrupt image/label: negative label values [-0.00091518 -4.4643e-05]\n",
      "\u001b[34m\u001b[1mtrain: \u001b[0mWARNING  C:\\yolocmapmodel\\archive\\data\\images\\train\\000002145.jpg: ignoring corrupt image/label: negative label values [ -0.0025223]\n",
      "\u001b[34m\u001b[1mtrain: \u001b[0mWARNING  C:\\yolocmapmodel\\archive\\data\\images\\train\\000002146.jpg: ignoring corrupt image/label: negative label values [ -0.0025223]\n",
      "\u001b[34m\u001b[1mtrain: \u001b[0mWARNING  C:\\yolocmapmodel\\archive\\data\\images\\train\\000002149.jpg: ignoring corrupt image/label: negative label values [ -0.0022321  -0.0033259]\n",
      "\u001b[34m\u001b[1mtrain: \u001b[0mWARNING  C:\\yolocmapmodel\\archive\\data\\images\\train\\000002162.jpg: ignoring corrupt image/label: negative label values [ -0.0027455]\n",
      "\u001b[34m\u001b[1mtrain: \u001b[0mWARNING  C:\\yolocmapmodel\\archive\\data\\images\\train\\000002165.jpg: ignoring corrupt image/label: negative label values [ -0.0027455]\n",
      "\u001b[34m\u001b[1mtrain: \u001b[0mWARNING  C:\\yolocmapmodel\\archive\\data\\images\\train\\000002187.jpg: ignoring corrupt image/label: negative label values [  -0.001183]\n",
      "\u001b[34m\u001b[1mtrain: \u001b[0mWARNING  C:\\yolocmapmodel\\archive\\data\\images\\train\\000002189.jpg: ignoring corrupt image/label: negative label values [  -0.001183]\n",
      "\u001b[34m\u001b[1mtrain: \u001b[0mWARNING  C:\\yolocmapmodel\\archive\\data\\images\\train\\000002228.jpg: ignoring corrupt image/label: negative label values [ -0.0041518]\n",
      "\u001b[34m\u001b[1mtrain: \u001b[0mWARNING  C:\\yolocmapmodel\\archive\\data\\images\\train\\000002230.jpg: ignoring corrupt image/label: negative label values [ -0.0041518]\n",
      "\u001b[34m\u001b[1mtrain: \u001b[0mWARNING  C:\\yolocmapmodel\\archive\\data\\images\\train\\000002245.jpg: ignoring corrupt image/label: negative label values [ -0.0010045]\n",
      "\u001b[34m\u001b[1mtrain: \u001b[0mWARNING  C:\\yolocmapmodel\\archive\\data\\images\\train\\000002246.jpg: ignoring corrupt image/label: negative label values [ -0.0010045]\n",
      "\u001b[34m\u001b[1mtrain: \u001b[0mWARNING  C:\\yolocmapmodel\\archive\\data\\images\\train\\000002259.jpg: ignoring corrupt image/label: negative label values [ -0.0033036]\n",
      "\u001b[34m\u001b[1mtrain: \u001b[0mWARNING  C:\\yolocmapmodel\\archive\\data\\images\\train\\000002260.jpg: ignoring corrupt image/label: negative label values [ -0.0033036]\n",
      "\u001b[34m\u001b[1mtrain: \u001b[0mWARNING  C:\\yolocmapmodel\\archive\\data\\images\\train\\000002261.jpg: ignoring corrupt image/label: negative label values [-0.00091518]\n",
      "\u001b[34m\u001b[1mtrain: \u001b[0mWARNING  C:\\yolocmapmodel\\archive\\data\\images\\train\\000002268.jpg: ignoring corrupt image/label: negative label values [ -0.0015848]\n",
      "\u001b[34m\u001b[1mtrain: \u001b[0mWARNING  C:\\yolocmapmodel\\archive\\data\\images\\train\\000002270.jpg: ignoring corrupt image/label: negative label values [ -0.0015848]\n",
      "\u001b[34m\u001b[1mtrain: \u001b[0mWARNING  C:\\yolocmapmodel\\archive\\data\\images\\train\\000002307.jpg: ignoring corrupt image/label: negative label values [  -0.001317]\n",
      "\u001b[34m\u001b[1mtrain: \u001b[0mWARNING  C:\\yolocmapmodel\\archive\\data\\images\\train\\000002309.jpg: ignoring corrupt image/label: negative label values [ -0.0040179]\n",
      "\u001b[34m\u001b[1mtrain: \u001b[0mWARNING  C:\\yolocmapmodel\\archive\\data\\images\\train\\000002310.jpg: ignoring corrupt image/label: negative label values [ -0.0040179]\n",
      "\u001b[34m\u001b[1mtrain: \u001b[0mWARNING  C:\\yolocmapmodel\\archive\\data\\images\\train\\000002340.jpg: ignoring corrupt image/label: negative label values [ -0.0020536]\n",
      "\u001b[34m\u001b[1mtrain: \u001b[0mWARNING  C:\\yolocmapmodel\\archive\\data\\images\\train\\000002341.jpg: ignoring corrupt image/label: negative label values [ -0.0020536]\n",
      "\u001b[34m\u001b[1mtrain: \u001b[0mWARNING  C:\\yolocmapmodel\\archive\\data\\images\\train\\000002398.jpg: ignoring corrupt image/label: negative label values [ -0.0035268]\n",
      "\u001b[34m\u001b[1mtrain: \u001b[0mWARNING  C:\\yolocmapmodel\\archive\\data\\images\\train\\000002401.jpg: ignoring corrupt image/label: negative label values [ -0.0035268]\n",
      "\u001b[34m\u001b[1mtrain: \u001b[0mWARNING  C:\\yolocmapmodel\\archive\\data\\images\\train\\000002421.jpg: ignoring corrupt image/label: negative label values [  -0.001317]\n",
      "\u001b[34m\u001b[1mtrain: \u001b[0mWARNING  C:\\yolocmapmodel\\archive\\data\\images\\train\\000002493.jpg: ignoring corrupt image/label: negative label values [ -0.0010045]\n",
      "\u001b[34m\u001b[1mtrain: \u001b[0mWARNING  C:\\yolocmapmodel\\archive\\data\\images\\train\\000002495.jpg: ignoring corrupt image/label: negative label values [ -0.0010045]\n",
      "\u001b[34m\u001b[1mtrain: \u001b[0mWARNING  C:\\yolocmapmodel\\archive\\data\\images\\train\\000002517.jpg: ignoring corrupt image/label: negative label values [ -0.0037723]\n",
      "\u001b[34m\u001b[1mtrain: \u001b[0mWARNING  C:\\yolocmapmodel\\archive\\data\\images\\train\\000002518.jpg: ignoring corrupt image/label: negative label values [    -0.0025  -0.0037723]\n",
      "\u001b[34m\u001b[1mtrain: \u001b[0mWARNING  C:\\yolocmapmodel\\archive\\data\\images\\train\\000002521.jpg: ignoring corrupt image/label: negative label values [    -0.0025]\n",
      "\u001b[34m\u001b[1mtrain: \u001b[0mWARNING  C:\\yolocmapmodel\\archive\\data\\images\\train\\000002559.jpg: ignoring corrupt image/label: negative label values [ -0.0044196]\n",
      "\u001b[34m\u001b[1mtrain: \u001b[0mWARNING  C:\\yolocmapmodel\\archive\\data\\images\\train\\000002561.jpg: ignoring corrupt image/label: negative label values [ -0.0044196]\n",
      "\u001b[34m\u001b[1mtrain: \u001b[0mWARNING  C:\\yolocmapmodel\\archive\\data\\images\\train\\000002593.jpg: ignoring corrupt image/label: negative label values [ -0.0043304]\n",
      "\u001b[34m\u001b[1mtrain: \u001b[0mWARNING  C:\\yolocmapmodel\\archive\\data\\images\\train\\000002596.jpg: ignoring corrupt image/label: negative label values [ -0.0043304]\n",
      "\u001b[34m\u001b[1mtrain: \u001b[0mWARNING  C:\\yolocmapmodel\\archive\\data\\images\\train\\000002625.jpg: ignoring corrupt image/label: negative label values [ -0.0029464]\n",
      "\u001b[34m\u001b[1mtrain: \u001b[0mWARNING  C:\\yolocmapmodel\\archive\\data\\images\\train\\000002627.jpg: ignoring corrupt image/label: negative label values [ -0.0029464]\n",
      "\u001b[34m\u001b[1mtrain: \u001b[0mWARNING  C:\\yolocmapmodel\\archive\\data\\images\\train\\000002681.jpg: ignoring corrupt image/label: negative label values [ -0.0036384]\n",
      "\u001b[34m\u001b[1mtrain: \u001b[0mWARNING  C:\\yolocmapmodel\\archive\\data\\images\\train\\000002761.jpg: ignoring corrupt image/label: negative label values [ -0.0035938]\n",
      "\u001b[34m\u001b[1mtrain: \u001b[0mWARNING  C:\\yolocmapmodel\\archive\\data\\images\\train\\000002780.jpg: ignoring corrupt image/label: negative label values [ -0.0022321]\n",
      "\u001b[34m\u001b[1mtrain: \u001b[0mWARNING  C:\\yolocmapmodel\\archive\\data\\images\\train\\000002782.jpg: ignoring corrupt image/label: negative label values [ -0.0022321]\n",
      "\u001b[34m\u001b[1mtrain: \u001b[0mWARNING  C:\\yolocmapmodel\\archive\\data\\images\\train\\000002805.jpg: ignoring corrupt image/label: negative label values [ -0.0036384]\n",
      "\u001b[34m\u001b[1mtrain: \u001b[0mWARNING  C:\\yolocmapmodel\\archive\\data\\images\\train\\000002843.jpg: ignoring corrupt image/label: negative label values [-0.00020089]\n",
      "\u001b[34m\u001b[1mtrain: \u001b[0mWARNING  C:\\yolocmapmodel\\archive\\data\\images\\train\\000002855.jpg: ignoring corrupt image/label: negative label values [ -0.0035938]\n",
      "\u001b[34m\u001b[1mtrain: \u001b[0mWARNING  C:\\yolocmapmodel\\archive\\data\\images\\train\\000002867.jpg: ignoring corrupt image/label: negative label values [ -0.0035714  -0.0029911]\n",
      "\u001b[34m\u001b[1mtrain: \u001b[0mWARNING  C:\\yolocmapmodel\\archive\\data\\images\\train\\000002931.jpg: ignoring corrupt image/label: negative label values [ -0.0038839]\n",
      "\u001b[34m\u001b[1mtrain: \u001b[0mWARNING  C:\\yolocmapmodel\\archive\\data\\images\\train\\000002933.jpg: ignoring corrupt image/label: negative label values [ -0.0038839]\n",
      "\u001b[34m\u001b[1mtrain: \u001b[0mWARNING  C:\\yolocmapmodel\\archive\\data\\images\\train\\000002936.jpg: ignoring corrupt image/label: negative label values [ -0.0026339]\n",
      "\u001b[34m\u001b[1mtrain: \u001b[0mWARNING  C:\\yolocmapmodel\\archive\\data\\images\\train\\000003073.jpg: ignoring corrupt image/label: negative label values [ -0.0022098]\n",
      "\u001b[34m\u001b[1mtrain: \u001b[0mWARNING  C:\\yolocmapmodel\\archive\\data\\images\\train\\000003074.jpg: ignoring corrupt image/label: negative label values [ -0.0022098]\n",
      "\u001b[34m\u001b[1mtrain: \u001b[0mWARNING  C:\\yolocmapmodel\\archive\\data\\images\\train\\000003091.jpg: ignoring corrupt image/label: negative label values [ -0.0023438]\n",
      "\u001b[34m\u001b[1mtrain: \u001b[0mWARNING  C:\\yolocmapmodel\\archive\\data\\images\\train\\000003092.jpg: ignoring corrupt image/label: negative label values [ -0.0023438]\n",
      "\u001b[34m\u001b[1mtrain: \u001b[0mWARNING  C:\\yolocmapmodel\\archive\\data\\images\\train\\000003224.jpg: ignoring corrupt image/label: negative label values [  -0.003683]\n",
      "\u001b[34m\u001b[1mtrain: \u001b[0mWARNING  C:\\yolocmapmodel\\archive\\data\\images\\train\\000003225.jpg: ignoring corrupt image/label: negative label values [  -0.003683]\n",
      "\u001b[34m\u001b[1mtrain: \u001b[0mWARNING  C:\\yolocmapmodel\\archive\\data\\images\\train\\000003254.jpg: ignoring corrupt image/label: negative label values [-0.00071429]\n",
      "\u001b[34m\u001b[1mtrain: \u001b[0mWARNING  C:\\yolocmapmodel\\archive\\data\\images\\train\\000003255.jpg: ignoring corrupt image/label: negative label values [-0.00071429]\n",
      "\u001b[34m\u001b[1mtrain: \u001b[0mWARNING  C:\\yolocmapmodel\\archive\\data\\images\\train\\000003349.jpg: ignoring corrupt image/label: negative label values [-0.00053571]\n",
      "\u001b[34m\u001b[1mtrain: \u001b[0mWARNING  C:\\yolocmapmodel\\archive\\data\\images\\train\\000003396.jpg: ignoring corrupt image/label: negative label values [-0.00053571]\n",
      "\u001b[34m\u001b[1mtrain: \u001b[0mWARNING  C:\\yolocmapmodel\\archive\\data\\images\\train\\000003436.jpg: ignoring corrupt image/label: negative label values [ -0.0012723]\n",
      "\u001b[34m\u001b[1mtrain: \u001b[0mWARNING  C:\\yolocmapmodel\\archive\\data\\images\\train\\000003439.jpg: ignoring corrupt image/label: negative label values [ -0.0012723]\n",
      "\u001b[34m\u001b[1mtrain: \u001b[0mWARNING  C:\\yolocmapmodel\\archive\\data\\images\\train\\000003441.jpg: ignoring corrupt image/label: negative label values [ -0.0012723]\n",
      "\u001b[34m\u001b[1mtrain: \u001b[0mWARNING  C:\\yolocmapmodel\\archive\\data\\images\\train\\000003442.jpg: ignoring corrupt image/label: negative label values [ -0.0012723]\n",
      "\u001b[34m\u001b[1mtrain: \u001b[0mWARNING  C:\\yolocmapmodel\\archive\\data\\images\\train\\000003508.jpg: ignoring corrupt image/label: negative label values [-0.00017857]\n",
      "\u001b[34m\u001b[1mtrain: \u001b[0mWARNING  C:\\yolocmapmodel\\archive\\data\\images\\train\\000003510.jpg: ignoring corrupt image/label: negative label values [ -0.0014509 -0.00017857]\n",
      "\u001b[34m\u001b[1mtrain: \u001b[0mWARNING  C:\\yolocmapmodel\\archive\\data\\images\\train\\000003511.jpg: ignoring corrupt image/label: negative label values [ -0.0041518  -0.0014509]\n",
      "\u001b[34m\u001b[1mtrain: \u001b[0mWARNING  C:\\yolocmapmodel\\archive\\data\\images\\train\\000003514.jpg: ignoring corrupt image/label: negative label values [ -0.0041518   -0.001317]\n",
      "\u001b[34m\u001b[1mtrain: \u001b[0mWARNING  C:\\yolocmapmodel\\archive\\data\\images\\train\\000003515.jpg: ignoring corrupt image/label: negative label values [  -0.001317]\n",
      "\u001b[34m\u001b[1mtrain: \u001b[0mWARNING  C:\\yolocmapmodel\\archive\\data\\images\\train\\000003526.jpg: ignoring corrupt image/label: negative label values [-0.00078125]\n",
      "\u001b[34m\u001b[1mtrain: \u001b[0mWARNING  C:\\yolocmapmodel\\archive\\data\\images\\train\\000003527.jpg: ignoring corrupt image/label: negative label values [-0.00078125]\n",
      "\u001b[34m\u001b[1mtrain: \u001b[0mWARNING  C:\\yolocmapmodel\\archive\\data\\images\\train\\000003549.jpg: ignoring corrupt image/label: negative label values [  -0.001875]\n",
      "\u001b[34m\u001b[1mtrain: \u001b[0mWARNING  C:\\yolocmapmodel\\archive\\data\\images\\train\\000003551.jpg: ignoring corrupt image/label: negative label values [-0.00095982]\n",
      "\u001b[34m\u001b[1mtrain: \u001b[0mWARNING  C:\\yolocmapmodel\\archive\\data\\images\\train\\000003552.jpg: ignoring corrupt image/label: negative label values [  -0.001875]\n",
      "\u001b[34m\u001b[1mtrain: \u001b[0mWARNING  C:\\yolocmapmodel\\archive\\data\\images\\train\\000003553.jpg: ignoring corrupt image/label: negative label values [-0.00095982  -0.0033929]\n",
      "\u001b[34m\u001b[1mtrain: \u001b[0mWARNING  C:\\yolocmapmodel\\archive\\data\\images\\train\\000003572.jpg: ignoring corrupt image/label: negative label values [ -0.0019866  -0.0038839]\n",
      "\u001b[34m\u001b[1mtrain: \u001b[0mWARNING  C:\\yolocmapmodel\\archive\\data\\images\\train\\000003574.jpg: ignoring corrupt image/label: negative label values [-0.00055804]\n",
      "\u001b[34m\u001b[1mtrain: \u001b[0mWARNING  C:\\yolocmapmodel\\archive\\data\\images\\train\\000003575.jpg: ignoring corrupt image/label: negative label values [ -0.0019866  -0.0038839  -0.0022321]\n",
      "\u001b[34m\u001b[1mtrain: \u001b[0mWARNING  C:\\yolocmapmodel\\archive\\data\\images\\train\\000003576.jpg: ignoring corrupt image/label: negative label values [-0.00055804 -0.00022321]\n",
      "\u001b[34m\u001b[1mtrain: \u001b[0mWARNING  C:\\yolocmapmodel\\archive\\data\\images\\train\\000003579.jpg: ignoring corrupt image/label: negative label values [-0.00022321]\n",
      "\u001b[34m\u001b[1mtrain: \u001b[0mWARNING  C:\\yolocmapmodel\\archive\\data\\images\\train\\000003581.jpg: ignoring corrupt image/label: negative label values [  -0.003817]\n",
      "\u001b[34m\u001b[1mtrain: \u001b[0mWARNING  C:\\yolocmapmodel\\archive\\data\\images\\train\\000003583.jpg: ignoring corrupt image/label: negative label values [  -0.003817]\n",
      "\u001b[34m\u001b[1mtrain: \u001b[0mWARNING  C:\\yolocmapmodel\\archive\\data\\images\\train\\000003586.jpg: ignoring corrupt image/label: negative label values [ -0.0032366  -0.0030134  -0.0033929]\n",
      "\u001b[34m\u001b[1mtrain: \u001b[0mWARNING  C:\\yolocmapmodel\\archive\\data\\images\\train\\000003590.jpg: ignoring corrupt image/label: negative label values [ -0.0019196]\n",
      "\u001b[34m\u001b[1mtrain: \u001b[0mWARNING  C:\\yolocmapmodel\\archive\\data\\images\\train\\000003593.jpg: ignoring corrupt image/label: negative label values [ -0.0019196  -0.0016071 -0.00087054]\n",
      "\u001b[34m\u001b[1mtrain: \u001b[0mWARNING  C:\\yolocmapmodel\\archive\\data\\images\\train\\000003594.jpg: ignoring corrupt image/label: negative label values [ -0.0016071 -0.00087054]\n",
      "\u001b[34m\u001b[1mtrain: \u001b[0mWARNING  C:\\yolocmapmodel\\archive\\data\\images\\train\\000003614.jpg: ignoring corrupt image/label: negative label values [-0.00015625  -0.0030357]\n",
      "\u001b[34m\u001b[1mtrain: \u001b[0mWARNING  C:\\yolocmapmodel\\archive\\data\\images\\train\\000003616.jpg: ignoring corrupt image/label: negative label values [-0.00026786]\n",
      "\u001b[34m\u001b[1mtrain: \u001b[0mWARNING  C:\\yolocmapmodel\\archive\\data\\images\\train\\000003617.jpg: ignoring corrupt image/label: negative label values [ -0.0038393 -0.00073661  -0.0040179]\n",
      "\u001b[34m\u001b[1mtrain: \u001b[0mWARNING  C:\\yolocmapmodel\\archive\\data\\images\\train\\000003618.jpg: ignoring corrupt image/label: negative label values [ -0.0042411]\n",
      "\u001b[34m\u001b[1mtrain: \u001b[0mWARNING  C:\\yolocmapmodel\\archive\\data\\images\\train\\000003619.jpg: ignoring corrupt image/label: negative label values [-0.00026786]\n",
      "\u001b[34m\u001b[1mtrain: \u001b[0mWARNING  C:\\yolocmapmodel\\archive\\data\\images\\train\\000003620.jpg: ignoring corrupt image/label: negative label values [ -0.0003125]\n",
      "\u001b[34m\u001b[1mtrain: \u001b[0mWARNING  C:\\yolocmapmodel\\archive\\data\\images\\train\\000003621.jpg: ignoring corrupt image/label: negative label values [-0.00069196  -0.0027679]\n",
      "\u001b[34m\u001b[1mtrain: \u001b[0mWARNING  C:\\yolocmapmodel\\archive\\data\\images\\train\\000003623.jpg: ignoring corrupt image/label: negative label values [ -0.0003125]\n",
      "\u001b[34m\u001b[1mtrain: \u001b[0mWARNING  C:\\yolocmapmodel\\archive\\data\\images\\train\\000003624.jpg: ignoring corrupt image/label: negative label values [ -0.0037054]\n",
      "\u001b[34m\u001b[1mtrain: \u001b[0mWARNING  C:\\yolocmapmodel\\archive\\data\\images\\train\\000003626.jpg: ignoring corrupt image/label: negative label values [ -0.0037054]\n",
      "\u001b[34m\u001b[1mtrain: \u001b[0mWARNING  C:\\yolocmapmodel\\archive\\data\\images\\train\\000003630.jpg: ignoring corrupt image/label: negative label values [ -0.0037054]\n",
      "\u001b[34m\u001b[1mtrain: \u001b[0mWARNING  C:\\yolocmapmodel\\archive\\data\\images\\train\\000003633.jpg: ignoring corrupt image/label: negative label values [ -0.0037054  -0.0019196]\n",
      "\u001b[34m\u001b[1mtrain: \u001b[0mWARNING  C:\\yolocmapmodel\\archive\\data\\images\\train\\000003634.jpg: ignoring corrupt image/label: negative label values [ -0.0019196]\n",
      "\u001b[34m\u001b[1mtrain: \u001b[0mWARNING  C:\\yolocmapmodel\\archive\\data\\images\\train\\000003640.jpg: ignoring corrupt image/label: negative label values [ -0.0023884 -0.00058036]\n",
      "\u001b[34m\u001b[1mtrain: \u001b[0mWARNING  C:\\yolocmapmodel\\archive\\data\\images\\train\\000003653.jpg: ignoring corrupt image/label: negative label values [ -0.0015402  -0.0042634  -0.0038616  -0.0040179   -0.001942]\n",
      "\u001b[34m\u001b[1mtrain: \u001b[0mWARNING  C:\\yolocmapmodel\\archive\\data\\images\\train\\000003655.jpg: ignoring corrupt image/label: negative label values [ -0.0015402   -0.004442 -0.00040179  -0.0017857   -0.001942]\n",
      "\u001b[34m\u001b[1mtrain: \u001b[0mWARNING  C:\\yolocmapmodel\\archive\\data\\images\\train\\000003656.jpg: ignoring corrupt image/label: negative label values [ -0.0038393  -0.0042634 -0.00073661  -0.0040179  -0.0038616  -0.0040179]\n",
      "\u001b[34m\u001b[1mtrain: \u001b[0mWARNING  C:\\yolocmapmodel\\archive\\data\\images\\train\\000003657.jpg: ignoring corrupt image/label: negative label values [-0.00069196  -0.0042411]\n",
      "\u001b[34m\u001b[1mtrain: \u001b[0mWARNING  C:\\yolocmapmodel\\archive\\data\\images\\train\\000003658.jpg: ignoring corrupt image/label: negative label values [  -0.004442 -0.00040179  -0.0017857]\n",
      "\u001b[34m\u001b[1mtrain: \u001b[0mWARNING  C:\\yolocmapmodel\\archive\\data\\images\\train\\000003659.jpg: ignoring corrupt image/label: negative label values [-0.00069196]\n",
      "\u001b[34m\u001b[1mtrain: \u001b[0mWARNING  C:\\yolocmapmodel\\archive\\data\\images\\train\\000003660.jpg: ignoring corrupt image/label: negative label values [-0.00069196  -0.0027679]\n",
      "\u001b[34m\u001b[1mtrain: \u001b[0mWARNING  C:\\yolocmapmodel\\archive\\data\\images\\train\\000003661.jpg: ignoring corrupt image/label: negative label values [ -0.0030134]\n",
      "\u001b[34m\u001b[1mtrain: \u001b[0mWARNING  C:\\yolocmapmodel\\archive\\data\\images\\train\\000003664.jpg: ignoring corrupt image/label: negative label values [ -0.0030134   -0.004375  -0.0019643]\n",
      "\u001b[34m\u001b[1mtrain: \u001b[0mWARNING  C:\\yolocmapmodel\\archive\\data\\images\\train\\000003665.jpg: ignoring corrupt image/label: negative label values [ -0.0026786]\n",
      "\u001b[34m\u001b[1mtrain: \u001b[0mWARNING  C:\\yolocmapmodel\\archive\\data\\images\\train\\000003666.jpg: ignoring corrupt image/label: negative label values [  -0.004375  -0.0019643]\n",
      "\u001b[34m\u001b[1mtrain: \u001b[0mWARNING  C:\\yolocmapmodel\\archive\\data\\images\\train\\000003671.jpg: ignoring corrupt image/label: negative label values [-0.00058036]\n",
      "\u001b[34m\u001b[1mtrain: \u001b[0mWARNING  C:\\yolocmapmodel\\archive\\data\\images\\train\\000003680.jpg: ignoring corrupt image/label: negative label values [ -0.0023884]\n",
      "\u001b[34m\u001b[1mtrain: \u001b[0mWARNING  C:\\yolocmapmodel\\archive\\data\\images\\train\\000003690.jpg: ignoring corrupt image/label: negative label values [ -0.0013616]\n",
      "\u001b[34m\u001b[1mtrain: \u001b[0mWARNING  C:\\yolocmapmodel\\archive\\data\\images\\train\\000003691.jpg: ignoring corrupt image/label: negative label values [ -0.0013616]\n",
      "\u001b[34m\u001b[1mtrain: \u001b[0mWARNING  C:\\yolocmapmodel\\archive\\data\\images\\train\\000003697.jpg: ignoring corrupt image/label: negative label values [-0.00075893]\n",
      "\u001b[34m\u001b[1mtrain: \u001b[0mWARNING  C:\\yolocmapmodel\\archive\\data\\images\\train\\000003732.jpg: ignoring corrupt image/label: negative label values [-0.00075893]\n"
     ]
    },
    {
     "name": "stderr",
     "output_type": "stream",
     "text": [
      "\n"
     ]
    },
    {
     "name": "stdout",
     "output_type": "stream",
     "text": [
      "\u001b[34m\u001b[1mtrain: \u001b[0mNew cache created: C:\\yolocmapmodel\\archive\\data\\labels\\train.cache\n"
     ]
    },
    {
     "name": "stderr",
     "output_type": "stream",
     "text": [
      "\u001b[34m\u001b[1mval: \u001b[0mScanning C:\\yolocmapmodel\\archive\\data\\labels\\train.cache... 3748 images, 684 backgrounds, 206 corrupt: 100%|██████████| 3748/3748 [00:00<?, ?it/s]"
     ]
    },
    {
     "name": "stdout",
     "output_type": "stream",
     "text": [
      "\u001b[34m\u001b[1mtrain: \u001b[0mWARNING  C:\\yolocmapmodel\\archive\\data\\images\\train\\000000006.jpg: ignoring corrupt image/label: negative label values [ -0.0019196]\n",
      "\u001b[34m\u001b[1mtrain: \u001b[0mWARNING  C:\\yolocmapmodel\\archive\\data\\images\\train\\000000131.jpg: ignoring corrupt image/label: negative label values [ -0.0019196]\n",
      "\u001b[34m\u001b[1mtrain: \u001b[0mWARNING  C:\\yolocmapmodel\\archive\\data\\images\\train\\000000192.jpg: ignoring corrupt image/label: negative label values [-0.00015625]\n",
      "\u001b[34m\u001b[1mtrain: \u001b[0mWARNING  C:\\yolocmapmodel\\archive\\data\\images\\train\\000000194.jpg: ignoring corrupt image/label: negative label values [-0.00015625]\n",
      "\u001b[34m\u001b[1mtrain: \u001b[0mWARNING  C:\\yolocmapmodel\\archive\\data\\images\\train\\000000211.jpg: ignoring corrupt image/label: negative label values [ -0.0033482]\n",
      "\u001b[34m\u001b[1mtrain: \u001b[0mWARNING  C:\\yolocmapmodel\\archive\\data\\images\\train\\000000214.jpg: ignoring corrupt image/label: negative label values [ -0.0033482]\n",
      "\u001b[34m\u001b[1mtrain: \u001b[0mWARNING  C:\\yolocmapmodel\\archive\\data\\images\\train\\000000220.jpg: ignoring corrupt image/label: negative label values [ -0.0010714]\n",
      "\u001b[34m\u001b[1mtrain: \u001b[0mWARNING  C:\\yolocmapmodel\\archive\\data\\images\\train\\000000222.jpg: ignoring corrupt image/label: negative label values [ -0.0010714]\n",
      "\u001b[34m\u001b[1mtrain: \u001b[0mWARNING  C:\\yolocmapmodel\\archive\\data\\images\\train\\000000224.jpg: ignoring corrupt image/label: negative label values [-0.00064732]\n",
      "\u001b[34m\u001b[1mtrain: \u001b[0mWARNING  C:\\yolocmapmodel\\archive\\data\\images\\train\\000000225.jpg: ignoring corrupt image/label: negative label values [-0.00064732]\n",
      "\u001b[34m\u001b[1mtrain: \u001b[0mWARNING  C:\\yolocmapmodel\\archive\\data\\images\\train\\000000230.jpg: ignoring corrupt image/label: negative label values [ -0.0027232]\n",
      "\u001b[34m\u001b[1mtrain: \u001b[0mWARNING  C:\\yolocmapmodel\\archive\\data\\images\\train\\000000231.jpg: ignoring corrupt image/label: negative label values [ -0.0027232]\n",
      "\u001b[34m\u001b[1mtrain: \u001b[0mWARNING  C:\\yolocmapmodel\\archive\\data\\images\\train\\000000260.jpg: ignoring corrupt image/label: negative label values [ -0.0040625]\n",
      "\u001b[34m\u001b[1mtrain: \u001b[0mWARNING  C:\\yolocmapmodel\\archive\\data\\images\\train\\000000353.jpg: ignoring corrupt image/label: negative label values [ -0.0027232]\n",
      "\u001b[34m\u001b[1mtrain: \u001b[0mWARNING  C:\\yolocmapmodel\\archive\\data\\images\\train\\000000354.jpg: ignoring corrupt image/label: negative label values [ -0.0027232]\n",
      "\u001b[34m\u001b[1mtrain: \u001b[0mWARNING  C:\\yolocmapmodel\\archive\\data\\images\\train\\000000401.jpg: ignoring corrupt image/label: negative label values [ -0.0014286]\n",
      "\u001b[34m\u001b[1mtrain: \u001b[0mWARNING  C:\\yolocmapmodel\\archive\\data\\images\\train\\000000403.jpg: ignoring corrupt image/label: negative label values [ -0.0014286]\n",
      "\u001b[34m\u001b[1mtrain: \u001b[0mWARNING  C:\\yolocmapmodel\\archive\\data\\images\\train\\000000405.jpg: ignoring corrupt image/label: negative label values [ -0.0040625]\n",
      "\u001b[34m\u001b[1mtrain: \u001b[0mWARNING  C:\\yolocmapmodel\\archive\\data\\images\\train\\000000410.jpg: ignoring corrupt image/label: negative label values [-0.00064732]\n",
      "\u001b[34m\u001b[1mtrain: \u001b[0mWARNING  C:\\yolocmapmodel\\archive\\data\\images\\train\\000000516.jpg: ignoring corrupt image/label: negative label values [ -0.0014509]\n",
      "\u001b[34m\u001b[1mtrain: \u001b[0mWARNING  C:\\yolocmapmodel\\archive\\data\\images\\train\\000000517.jpg: ignoring corrupt image/label: negative label values [ -0.0014509]\n",
      "\u001b[34m\u001b[1mtrain: \u001b[0mWARNING  C:\\yolocmapmodel\\archive\\data\\images\\train\\000000528.jpg: ignoring corrupt image/label: negative label values [ -0.0033482]\n",
      "\u001b[34m\u001b[1mtrain: \u001b[0mWARNING  C:\\yolocmapmodel\\archive\\data\\images\\train\\000000529.jpg: ignoring corrupt image/label: negative label values [ -0.0033482]\n",
      "\u001b[34m\u001b[1mtrain: \u001b[0mWARNING  C:\\yolocmapmodel\\archive\\data\\images\\train\\000000551.jpg: ignoring corrupt image/label: negative label values [-0.00064732]\n",
      "\u001b[34m\u001b[1mtrain: \u001b[0mWARNING  C:\\yolocmapmodel\\archive\\data\\images\\train\\000000656.jpg: ignoring corrupt image/label: negative label values [ -0.0015179]\n",
      "\u001b[34m\u001b[1mtrain: \u001b[0mWARNING  C:\\yolocmapmodel\\archive\\data\\images\\train\\000000658.jpg: ignoring corrupt image/label: negative label values [ -0.0015179]\n",
      "\u001b[34m\u001b[1mtrain: \u001b[0mWARNING  C:\\yolocmapmodel\\archive\\data\\images\\train\\000000675.jpg: ignoring corrupt image/label: negative label values [ -0.0034152]\n",
      "\u001b[34m\u001b[1mtrain: \u001b[0mWARNING  C:\\yolocmapmodel\\archive\\data\\images\\train\\000000769.jpg: ignoring corrupt image/label: negative label values [ -0.0024777]\n",
      "\u001b[34m\u001b[1mtrain: \u001b[0mWARNING  C:\\yolocmapmodel\\archive\\data\\images\\train\\000000770.jpg: ignoring corrupt image/label: negative label values [ -0.0024777]\n",
      "\u001b[34m\u001b[1mtrain: \u001b[0mWARNING  C:\\yolocmapmodel\\archive\\data\\images\\train\\000000797.jpg: ignoring corrupt image/label: negative label values [ -0.0034152]\n",
      "\u001b[34m\u001b[1mtrain: \u001b[0mWARNING  C:\\yolocmapmodel\\archive\\data\\images\\train\\000000868.jpg: ignoring corrupt image/label: negative label values [ -0.0043973]\n",
      "\u001b[34m\u001b[1mtrain: \u001b[0mWARNING  C:\\yolocmapmodel\\archive\\data\\images\\train\\000000869.jpg: ignoring corrupt image/label: negative label values [ -0.0043973]\n",
      "\u001b[34m\u001b[1mtrain: \u001b[0mWARNING  C:\\yolocmapmodel\\archive\\data\\images\\train\\000000902.jpg: ignoring corrupt image/label: negative label values [ -0.0015179]\n",
      "\u001b[34m\u001b[1mtrain: \u001b[0mWARNING  C:\\yolocmapmodel\\archive\\data\\images\\train\\000000903.jpg: ignoring corrupt image/label: negative label values [ -0.0015179]\n",
      "\u001b[34m\u001b[1mtrain: \u001b[0mWARNING  C:\\yolocmapmodel\\archive\\data\\images\\train\\000000938.jpg: ignoring corrupt image/label: negative label values [ -0.0010045  -0.0043304]\n",
      "\u001b[34m\u001b[1mtrain: \u001b[0mWARNING  C:\\yolocmapmodel\\archive\\data\\images\\train\\000000941.jpg: ignoring corrupt image/label: negative label values [-0.00037946]\n",
      "\u001b[34m\u001b[1mtrain: \u001b[0mWARNING  C:\\yolocmapmodel\\archive\\data\\images\\train\\000000947.jpg: ignoring corrupt image/label: negative label values [ -0.0035268]\n",
      "\u001b[34m\u001b[1mtrain: \u001b[0mWARNING  C:\\yolocmapmodel\\archive\\data\\images\\train\\000000948.jpg: ignoring corrupt image/label: negative label values [ -0.0035268]\n",
      "\u001b[34m\u001b[1mtrain: \u001b[0mWARNING  C:\\yolocmapmodel\\archive\\data\\images\\train\\000000958.jpg: ignoring corrupt image/label: negative label values [ -0.0010938]\n",
      "\u001b[34m\u001b[1mtrain: \u001b[0mWARNING  C:\\yolocmapmodel\\archive\\data\\images\\train\\000000960.jpg: ignoring corrupt image/label: negative label values [ -0.0010938]\n",
      "\u001b[34m\u001b[1mtrain: \u001b[0mWARNING  C:\\yolocmapmodel\\archive\\data\\images\\train\\000000969.jpg: ignoring corrupt image/label: negative label values [ -0.0035268]\n",
      "\u001b[34m\u001b[1mtrain: \u001b[0mWARNING  C:\\yolocmapmodel\\archive\\data\\images\\train\\000001016.jpg: ignoring corrupt image/label: negative label values [ -0.0041071]\n",
      "\u001b[34m\u001b[1mtrain: \u001b[0mWARNING  C:\\yolocmapmodel\\archive\\data\\images\\train\\000001018.jpg: ignoring corrupt image/label: negative label values [ -0.0041071]\n",
      "\u001b[34m\u001b[1mtrain: \u001b[0mWARNING  C:\\yolocmapmodel\\archive\\data\\images\\train\\000001021.jpg: ignoring corrupt image/label: negative label values [  -0.002433]\n",
      "\u001b[34m\u001b[1mtrain: \u001b[0mWARNING  C:\\yolocmapmodel\\archive\\data\\images\\train\\000001049.jpg: ignoring corrupt image/label: negative label values [ -0.0010045  -0.0043304]\n",
      "\u001b[34m\u001b[1mtrain: \u001b[0mWARNING  C:\\yolocmapmodel\\archive\\data\\images\\train\\000001052.jpg: ignoring corrupt image/label: negative label values [ -0.0041741]\n",
      "\u001b[34m\u001b[1mtrain: \u001b[0mWARNING  C:\\yolocmapmodel\\archive\\data\\images\\train\\000001081.jpg: ignoring corrupt image/label: negative label values [ -0.0027232]\n",
      "\u001b[34m\u001b[1mtrain: \u001b[0mWARNING  C:\\yolocmapmodel\\archive\\data\\images\\train\\000001083.jpg: ignoring corrupt image/label: negative label values [ -0.0027232]\n",
      "\u001b[34m\u001b[1mtrain: \u001b[0mWARNING  C:\\yolocmapmodel\\archive\\data\\images\\train\\000001121.jpg: ignoring corrupt image/label: negative label values [ -0.0023438]\n",
      "\u001b[34m\u001b[1mtrain: \u001b[0mWARNING  C:\\yolocmapmodel\\archive\\data\\images\\train\\000001122.jpg: ignoring corrupt image/label: negative label values [ -0.0023438]\n",
      "\u001b[34m\u001b[1mtrain: \u001b[0mWARNING  C:\\yolocmapmodel\\archive\\data\\images\\train\\000001136.jpg: ignoring corrupt image/label: negative label values [ -0.0020312]\n",
      "\u001b[34m\u001b[1mtrain: \u001b[0mWARNING  C:\\yolocmapmodel\\archive\\data\\images\\train\\000001138.jpg: ignoring corrupt image/label: negative label values [  -0.002433]\n",
      "\u001b[34m\u001b[1mtrain: \u001b[0mWARNING  C:\\yolocmapmodel\\archive\\data\\images\\train\\000001220.jpg: ignoring corrupt image/label: negative label values [ -0.0040848]\n",
      "\u001b[34m\u001b[1mtrain: \u001b[0mWARNING  C:\\yolocmapmodel\\archive\\data\\images\\train\\000001222.jpg: ignoring corrupt image/label: negative label values [ -0.0040848]\n",
      "\u001b[34m\u001b[1mtrain: \u001b[0mWARNING  C:\\yolocmapmodel\\archive\\data\\images\\train\\000001237.jpg: ignoring corrupt image/label: negative label values [ -0.0022991]\n",
      "\u001b[34m\u001b[1mtrain: \u001b[0mWARNING  C:\\yolocmapmodel\\archive\\data\\images\\train\\000001238.jpg: ignoring corrupt image/label: negative label values [ -0.0022991]\n",
      "\u001b[34m\u001b[1mtrain: \u001b[0mWARNING  C:\\yolocmapmodel\\archive\\data\\images\\train\\000001250.jpg: ignoring corrupt image/label: negative label values [ -0.0020312]\n",
      "\u001b[34m\u001b[1mtrain: \u001b[0mWARNING  C:\\yolocmapmodel\\archive\\data\\images\\train\\000001349.jpg: ignoring corrupt image/label: negative label values [ -0.0016518]\n",
      "\u001b[34m\u001b[1mtrain: \u001b[0mWARNING  C:\\yolocmapmodel\\archive\\data\\images\\train\\000001379.jpg: ignoring corrupt image/label: negative label values [  -0.001942]\n",
      "\u001b[34m\u001b[1mtrain: \u001b[0mWARNING  C:\\yolocmapmodel\\archive\\data\\images\\train\\000001381.jpg: ignoring corrupt image/label: negative label values [  -0.001942]\n",
      "\u001b[34m\u001b[1mtrain: \u001b[0mWARNING  C:\\yolocmapmodel\\archive\\data\\images\\train\\000001399.jpg: ignoring corrupt image/label: negative label values [ -0.0043304]\n",
      "\u001b[34m\u001b[1mtrain: \u001b[0mWARNING  C:\\yolocmapmodel\\archive\\data\\images\\train\\000001402.jpg: ignoring corrupt image/label: negative label values [ -0.0043304]\n",
      "\u001b[34m\u001b[1mtrain: \u001b[0mWARNING  C:\\yolocmapmodel\\archive\\data\\images\\train\\000001468.jpg: ignoring corrupt image/label: negative label values [ -0.0016518  -0.0042634]\n",
      "\u001b[34m\u001b[1mtrain: \u001b[0mWARNING  C:\\yolocmapmodel\\archive\\data\\images\\train\\000001470.jpg: ignoring corrupt image/label: negative label values [ -0.0042634]\n",
      "\u001b[34m\u001b[1mtrain: \u001b[0mWARNING  C:\\yolocmapmodel\\archive\\data\\images\\train\\000001503.jpg: ignoring corrupt image/label: negative label values [ -0.0025893 -0.00091518]\n",
      "\u001b[34m\u001b[1mtrain: \u001b[0mWARNING  C:\\yolocmapmodel\\archive\\data\\images\\train\\000001514.jpg: ignoring corrupt image/label: negative label values [ -0.0016071]\n",
      "\u001b[34m\u001b[1mtrain: \u001b[0mWARNING  C:\\yolocmapmodel\\archive\\data\\images\\train\\000001515.jpg: ignoring corrupt image/label: negative label values [ -0.0016071]\n",
      "\u001b[34m\u001b[1mtrain: \u001b[0mWARNING  C:\\yolocmapmodel\\archive\\data\\images\\train\\000001518.jpg: ignoring corrupt image/label: negative label values [ -0.0027009]\n",
      "\u001b[34m\u001b[1mtrain: \u001b[0mWARNING  C:\\yolocmapmodel\\archive\\data\\images\\train\\000001519.jpg: ignoring corrupt image/label: negative label values [ -0.0027009]\n",
      "\u001b[34m\u001b[1mtrain: \u001b[0mWARNING  C:\\yolocmapmodel\\archive\\data\\images\\train\\000001567.jpg: ignoring corrupt image/label: negative label values [-0.00091518]\n",
      "\u001b[34m\u001b[1mtrain: \u001b[0mWARNING  C:\\yolocmapmodel\\archive\\data\\images\\train\\000001569.jpg: ignoring corrupt image/label: negative label values [-0.00091518]\n",
      "\u001b[34m\u001b[1mtrain: \u001b[0mWARNING  C:\\yolocmapmodel\\archive\\data\\images\\train\\000001690.jpg: ignoring corrupt image/label: negative label values [ -0.0037054]\n",
      "\u001b[34m\u001b[1mtrain: \u001b[0mWARNING  C:\\yolocmapmodel\\archive\\data\\images\\train\\000001691.jpg: ignoring corrupt image/label: negative label values [ -0.0037054]\n",
      "\u001b[34m\u001b[1mtrain: \u001b[0mWARNING  C:\\yolocmapmodel\\archive\\data\\images\\train\\000001726.jpg: ignoring corrupt image/label: negative label values [ -0.0033705]\n",
      "\u001b[34m\u001b[1mtrain: \u001b[0mWARNING  C:\\yolocmapmodel\\archive\\data\\images\\train\\000001728.jpg: ignoring corrupt image/label: negative label values [ -0.0033705]\n",
      "\u001b[34m\u001b[1mtrain: \u001b[0mWARNING  C:\\yolocmapmodel\\archive\\data\\images\\train\\000001742.jpg: ignoring corrupt image/label: negative label values [  -0.003058]\n",
      "\u001b[34m\u001b[1mtrain: \u001b[0mWARNING  C:\\yolocmapmodel\\archive\\data\\images\\train\\000001744.jpg: ignoring corrupt image/label: negative label values [  -0.003058]\n",
      "\u001b[34m\u001b[1mtrain: \u001b[0mWARNING  C:\\yolocmapmodel\\archive\\data\\images\\train\\000001843.jpg: ignoring corrupt image/label: negative label values [-0.00053571]\n",
      "\u001b[34m\u001b[1mtrain: \u001b[0mWARNING  C:\\yolocmapmodel\\archive\\data\\images\\train\\000001844.jpg: ignoring corrupt image/label: negative label values [-0.00053571]\n",
      "\u001b[34m\u001b[1mtrain: \u001b[0mWARNING  C:\\yolocmapmodel\\archive\\data\\images\\train\\000001889.jpg: ignoring corrupt image/label: negative label values [ -0.0016295]\n",
      "\u001b[34m\u001b[1mtrain: \u001b[0mWARNING  C:\\yolocmapmodel\\archive\\data\\images\\train\\000001892.jpg: ignoring corrupt image/label: negative label values [ -0.0016295]\n",
      "\u001b[34m\u001b[1mtrain: \u001b[0mWARNING  C:\\yolocmapmodel\\archive\\data\\images\\train\\000001894.jpg: ignoring corrupt image/label: negative label values [ -0.0025893]\n",
      "\u001b[34m\u001b[1mtrain: \u001b[0mWARNING  C:\\yolocmapmodel\\archive\\data\\images\\train\\000001895.jpg: ignoring corrupt image/label: negative label values [ -0.0025893]\n",
      "\u001b[34m\u001b[1mtrain: \u001b[0mWARNING  C:\\yolocmapmodel\\archive\\data\\images\\train\\000001958.jpg: ignoring corrupt image/label: negative label values [ -0.0027455]\n",
      "\u001b[34m\u001b[1mtrain: \u001b[0mWARNING  C:\\yolocmapmodel\\archive\\data\\images\\train\\000001961.jpg: ignoring corrupt image/label: negative label values [ -0.0027455]\n",
      "\u001b[34m\u001b[1mtrain: \u001b[0mWARNING  C:\\yolocmapmodel\\archive\\data\\images\\train\\000002019.jpg: ignoring corrupt image/label: negative label values [-0.00011161]\n",
      "\u001b[34m\u001b[1mtrain: \u001b[0mWARNING  C:\\yolocmapmodel\\archive\\data\\images\\train\\000002022.jpg: ignoring corrupt image/label: negative label values [-0.00011161]\n",
      "\u001b[34m\u001b[1mtrain: \u001b[0mWARNING  C:\\yolocmapmodel\\archive\\data\\images\\train\\000002074.jpg: ignoring corrupt image/label: negative label values [ -0.0043304]\n",
      "\u001b[34m\u001b[1mtrain: \u001b[0mWARNING  C:\\yolocmapmodel\\archive\\data\\images\\train\\000002076.jpg: ignoring corrupt image/label: negative label values [ -0.0029018]\n",
      "\u001b[34m\u001b[1mtrain: \u001b[0mWARNING  C:\\yolocmapmodel\\archive\\data\\images\\train\\000002078.jpg: ignoring corrupt image/label: negative label values [ -0.0029018]\n",
      "\u001b[34m\u001b[1mtrain: \u001b[0mWARNING  C:\\yolocmapmodel\\archive\\data\\images\\train\\000002129.jpg: ignoring corrupt image/label: negative label values [-0.00091518]\n",
      "\u001b[34m\u001b[1mtrain: \u001b[0mWARNING  C:\\yolocmapmodel\\archive\\data\\images\\train\\000002131.jpg: ignoring corrupt image/label: negative label values [-0.00091518 -4.4643e-05]\n",
      "\u001b[34m\u001b[1mtrain: \u001b[0mWARNING  C:\\yolocmapmodel\\archive\\data\\images\\train\\000002133.jpg: ignoring corrupt image/label: negative label values [-0.00091518 -4.4643e-05]\n",
      "\u001b[34m\u001b[1mtrain: \u001b[0mWARNING  C:\\yolocmapmodel\\archive\\data\\images\\train\\000002145.jpg: ignoring corrupt image/label: negative label values [ -0.0025223]\n",
      "\u001b[34m\u001b[1mtrain: \u001b[0mWARNING  C:\\yolocmapmodel\\archive\\data\\images\\train\\000002146.jpg: ignoring corrupt image/label: negative label values [ -0.0025223]\n",
      "\u001b[34m\u001b[1mtrain: \u001b[0mWARNING  C:\\yolocmapmodel\\archive\\data\\images\\train\\000002149.jpg: ignoring corrupt image/label: negative label values [ -0.0022321  -0.0033259]\n",
      "\u001b[34m\u001b[1mtrain: \u001b[0mWARNING  C:\\yolocmapmodel\\archive\\data\\images\\train\\000002162.jpg: ignoring corrupt image/label: negative label values [ -0.0027455]\n",
      "\u001b[34m\u001b[1mtrain: \u001b[0mWARNING  C:\\yolocmapmodel\\archive\\data\\images\\train\\000002165.jpg: ignoring corrupt image/label: negative label values [ -0.0027455]\n",
      "\u001b[34m\u001b[1mtrain: \u001b[0mWARNING  C:\\yolocmapmodel\\archive\\data\\images\\train\\000002187.jpg: ignoring corrupt image/label: negative label values [  -0.001183]\n",
      "\u001b[34m\u001b[1mtrain: \u001b[0mWARNING  C:\\yolocmapmodel\\archive\\data\\images\\train\\000002189.jpg: ignoring corrupt image/label: negative label values [  -0.001183]\n",
      "\u001b[34m\u001b[1mtrain: \u001b[0mWARNING  C:\\yolocmapmodel\\archive\\data\\images\\train\\000002228.jpg: ignoring corrupt image/label: negative label values [ -0.0041518]\n",
      "\u001b[34m\u001b[1mtrain: \u001b[0mWARNING  C:\\yolocmapmodel\\archive\\data\\images\\train\\000002230.jpg: ignoring corrupt image/label: negative label values [ -0.0041518]\n",
      "\u001b[34m\u001b[1mtrain: \u001b[0mWARNING  C:\\yolocmapmodel\\archive\\data\\images\\train\\000002245.jpg: ignoring corrupt image/label: negative label values [ -0.0010045]\n",
      "\u001b[34m\u001b[1mtrain: \u001b[0mWARNING  C:\\yolocmapmodel\\archive\\data\\images\\train\\000002246.jpg: ignoring corrupt image/label: negative label values [ -0.0010045]\n",
      "\u001b[34m\u001b[1mtrain: \u001b[0mWARNING  C:\\yolocmapmodel\\archive\\data\\images\\train\\000002259.jpg: ignoring corrupt image/label: negative label values [ -0.0033036]\n",
      "\u001b[34m\u001b[1mtrain: \u001b[0mWARNING  C:\\yolocmapmodel\\archive\\data\\images\\train\\000002260.jpg: ignoring corrupt image/label: negative label values [ -0.0033036]\n",
      "\u001b[34m\u001b[1mtrain: \u001b[0mWARNING  C:\\yolocmapmodel\\archive\\data\\images\\train\\000002261.jpg: ignoring corrupt image/label: negative label values [-0.00091518]\n",
      "\u001b[34m\u001b[1mtrain: \u001b[0mWARNING  C:\\yolocmapmodel\\archive\\data\\images\\train\\000002268.jpg: ignoring corrupt image/label: negative label values [ -0.0015848]\n",
      "\u001b[34m\u001b[1mtrain: \u001b[0mWARNING  C:\\yolocmapmodel\\archive\\data\\images\\train\\000002270.jpg: ignoring corrupt image/label: negative label values [ -0.0015848]\n",
      "\u001b[34m\u001b[1mtrain: \u001b[0mWARNING  C:\\yolocmapmodel\\archive\\data\\images\\train\\000002307.jpg: ignoring corrupt image/label: negative label values [  -0.001317]\n",
      "\u001b[34m\u001b[1mtrain: \u001b[0mWARNING  C:\\yolocmapmodel\\archive\\data\\images\\train\\000002309.jpg: ignoring corrupt image/label: negative label values [ -0.0040179]\n",
      "\u001b[34m\u001b[1mtrain: \u001b[0mWARNING  C:\\yolocmapmodel\\archive\\data\\images\\train\\000002310.jpg: ignoring corrupt image/label: negative label values [ -0.0040179]\n",
      "\u001b[34m\u001b[1mtrain: \u001b[0mWARNING  C:\\yolocmapmodel\\archive\\data\\images\\train\\000002340.jpg: ignoring corrupt image/label: negative label values [ -0.0020536]\n",
      "\u001b[34m\u001b[1mtrain: \u001b[0mWARNING  C:\\yolocmapmodel\\archive\\data\\images\\train\\000002341.jpg: ignoring corrupt image/label: negative label values [ -0.0020536]\n",
      "\u001b[34m\u001b[1mtrain: \u001b[0mWARNING  C:\\yolocmapmodel\\archive\\data\\images\\train\\000002398.jpg: ignoring corrupt image/label: negative label values [ -0.0035268]\n",
      "\u001b[34m\u001b[1mtrain: \u001b[0mWARNING  C:\\yolocmapmodel\\archive\\data\\images\\train\\000002401.jpg: ignoring corrupt image/label: negative label values [ -0.0035268]\n",
      "\u001b[34m\u001b[1mtrain: \u001b[0mWARNING  C:\\yolocmapmodel\\archive\\data\\images\\train\\000002421.jpg: ignoring corrupt image/label: negative label values [  -0.001317]\n",
      "\u001b[34m\u001b[1mtrain: \u001b[0mWARNING  C:\\yolocmapmodel\\archive\\data\\images\\train\\000002493.jpg: ignoring corrupt image/label: negative label values [ -0.0010045]\n",
      "\u001b[34m\u001b[1mtrain: \u001b[0mWARNING  C:\\yolocmapmodel\\archive\\data\\images\\train\\000002495.jpg: ignoring corrupt image/label: negative label values [ -0.0010045]\n",
      "\u001b[34m\u001b[1mtrain: \u001b[0mWARNING  C:\\yolocmapmodel\\archive\\data\\images\\train\\000002517.jpg: ignoring corrupt image/label: negative label values [ -0.0037723]\n",
      "\u001b[34m\u001b[1mtrain: \u001b[0mWARNING  C:\\yolocmapmodel\\archive\\data\\images\\train\\000002518.jpg: ignoring corrupt image/label: negative label values [    -0.0025  -0.0037723]\n",
      "\u001b[34m\u001b[1mtrain: \u001b[0mWARNING  C:\\yolocmapmodel\\archive\\data\\images\\train\\000002521.jpg: ignoring corrupt image/label: negative label values [    -0.0025]\n",
      "\u001b[34m\u001b[1mtrain: \u001b[0mWARNING  C:\\yolocmapmodel\\archive\\data\\images\\train\\000002559.jpg: ignoring corrupt image/label: negative label values [ -0.0044196]\n",
      "\u001b[34m\u001b[1mtrain: \u001b[0mWARNING  C:\\yolocmapmodel\\archive\\data\\images\\train\\000002561.jpg: ignoring corrupt image/label: negative label values [ -0.0044196]\n",
      "\u001b[34m\u001b[1mtrain: \u001b[0mWARNING  C:\\yolocmapmodel\\archive\\data\\images\\train\\000002593.jpg: ignoring corrupt image/label: negative label values [ -0.0043304]\n",
      "\u001b[34m\u001b[1mtrain: \u001b[0mWARNING  C:\\yolocmapmodel\\archive\\data\\images\\train\\000002596.jpg: ignoring corrupt image/label: negative label values [ -0.0043304]\n",
      "\u001b[34m\u001b[1mtrain: \u001b[0mWARNING  C:\\yolocmapmodel\\archive\\data\\images\\train\\000002625.jpg: ignoring corrupt image/label: negative label values [ -0.0029464]\n",
      "\u001b[34m\u001b[1mtrain: \u001b[0mWARNING  C:\\yolocmapmodel\\archive\\data\\images\\train\\000002627.jpg: ignoring corrupt image/label: negative label values [ -0.0029464]\n",
      "\u001b[34m\u001b[1mtrain: \u001b[0mWARNING  C:\\yolocmapmodel\\archive\\data\\images\\train\\000002681.jpg: ignoring corrupt image/label: negative label values [ -0.0036384]\n",
      "\u001b[34m\u001b[1mtrain: \u001b[0mWARNING  C:\\yolocmapmodel\\archive\\data\\images\\train\\000002761.jpg: ignoring corrupt image/label: negative label values [ -0.0035938]\n",
      "\u001b[34m\u001b[1mtrain: \u001b[0mWARNING  C:\\yolocmapmodel\\archive\\data\\images\\train\\000002780.jpg: ignoring corrupt image/label: negative label values [ -0.0022321]\n",
      "\u001b[34m\u001b[1mtrain: \u001b[0mWARNING  C:\\yolocmapmodel\\archive\\data\\images\\train\\000002782.jpg: ignoring corrupt image/label: negative label values [ -0.0022321]\n",
      "\u001b[34m\u001b[1mtrain: \u001b[0mWARNING  C:\\yolocmapmodel\\archive\\data\\images\\train\\000002805.jpg: ignoring corrupt image/label: negative label values [ -0.0036384]\n",
      "\u001b[34m\u001b[1mtrain: \u001b[0mWARNING  C:\\yolocmapmodel\\archive\\data\\images\\train\\000002843.jpg: ignoring corrupt image/label: negative label values [-0.00020089]\n",
      "\u001b[34m\u001b[1mtrain: \u001b[0mWARNING  C:\\yolocmapmodel\\archive\\data\\images\\train\\000002855.jpg: ignoring corrupt image/label: negative label values [ -0.0035938]\n",
      "\u001b[34m\u001b[1mtrain: \u001b[0mWARNING  C:\\yolocmapmodel\\archive\\data\\images\\train\\000002867.jpg: ignoring corrupt image/label: negative label values [ -0.0035714  -0.0029911]\n",
      "\u001b[34m\u001b[1mtrain: \u001b[0mWARNING  C:\\yolocmapmodel\\archive\\data\\images\\train\\000002931.jpg: ignoring corrupt image/label: negative label values [ -0.0038839]\n",
      "\u001b[34m\u001b[1mtrain: \u001b[0mWARNING  C:\\yolocmapmodel\\archive\\data\\images\\train\\000002933.jpg: ignoring corrupt image/label: negative label values [ -0.0038839]\n",
      "\u001b[34m\u001b[1mtrain: \u001b[0mWARNING  C:\\yolocmapmodel\\archive\\data\\images\\train\\000002936.jpg: ignoring corrupt image/label: negative label values [ -0.0026339]\n",
      "\u001b[34m\u001b[1mtrain: \u001b[0mWARNING  C:\\yolocmapmodel\\archive\\data\\images\\train\\000003073.jpg: ignoring corrupt image/label: negative label values [ -0.0022098]\n",
      "\u001b[34m\u001b[1mtrain: \u001b[0mWARNING  C:\\yolocmapmodel\\archive\\data\\images\\train\\000003074.jpg: ignoring corrupt image/label: negative label values [ -0.0022098]\n",
      "\u001b[34m\u001b[1mtrain: \u001b[0mWARNING  C:\\yolocmapmodel\\archive\\data\\images\\train\\000003091.jpg: ignoring corrupt image/label: negative label values [ -0.0023438]\n",
      "\u001b[34m\u001b[1mtrain: \u001b[0mWARNING  C:\\yolocmapmodel\\archive\\data\\images\\train\\000003092.jpg: ignoring corrupt image/label: negative label values [ -0.0023438]\n",
      "\u001b[34m\u001b[1mtrain: \u001b[0mWARNING  C:\\yolocmapmodel\\archive\\data\\images\\train\\000003224.jpg: ignoring corrupt image/label: negative label values [  -0.003683]\n",
      "\u001b[34m\u001b[1mtrain: \u001b[0mWARNING  C:\\yolocmapmodel\\archive\\data\\images\\train\\000003225.jpg: ignoring corrupt image/label: negative label values [  -0.003683]\n",
      "\u001b[34m\u001b[1mtrain: \u001b[0mWARNING  C:\\yolocmapmodel\\archive\\data\\images\\train\\000003254.jpg: ignoring corrupt image/label: negative label values [-0.00071429]\n",
      "\u001b[34m\u001b[1mtrain: \u001b[0mWARNING  C:\\yolocmapmodel\\archive\\data\\images\\train\\000003255.jpg: ignoring corrupt image/label: negative label values [-0.00071429]\n",
      "\u001b[34m\u001b[1mtrain: \u001b[0mWARNING  C:\\yolocmapmodel\\archive\\data\\images\\train\\000003349.jpg: ignoring corrupt image/label: negative label values [-0.00053571]\n",
      "\u001b[34m\u001b[1mtrain: \u001b[0mWARNING  C:\\yolocmapmodel\\archive\\data\\images\\train\\000003396.jpg: ignoring corrupt image/label: negative label values [-0.00053571]\n",
      "\u001b[34m\u001b[1mtrain: \u001b[0mWARNING  C:\\yolocmapmodel\\archive\\data\\images\\train\\000003436.jpg: ignoring corrupt image/label: negative label values [ -0.0012723]\n",
      "\u001b[34m\u001b[1mtrain: \u001b[0mWARNING  C:\\yolocmapmodel\\archive\\data\\images\\train\\000003439.jpg: ignoring corrupt image/label: negative label values [ -0.0012723]\n",
      "\u001b[34m\u001b[1mtrain: \u001b[0mWARNING  C:\\yolocmapmodel\\archive\\data\\images\\train\\000003441.jpg: ignoring corrupt image/label: negative label values [ -0.0012723]\n",
      "\u001b[34m\u001b[1mtrain: \u001b[0mWARNING  C:\\yolocmapmodel\\archive\\data\\images\\train\\000003442.jpg: ignoring corrupt image/label: negative label values [ -0.0012723]\n",
      "\u001b[34m\u001b[1mtrain: \u001b[0mWARNING  C:\\yolocmapmodel\\archive\\data\\images\\train\\000003508.jpg: ignoring corrupt image/label: negative label values [-0.00017857]\n",
      "\u001b[34m\u001b[1mtrain: \u001b[0mWARNING  C:\\yolocmapmodel\\archive\\data\\images\\train\\000003510.jpg: ignoring corrupt image/label: negative label values [ -0.0014509 -0.00017857]\n",
      "\u001b[34m\u001b[1mtrain: \u001b[0mWARNING  C:\\yolocmapmodel\\archive\\data\\images\\train\\000003511.jpg: ignoring corrupt image/label: negative label values [ -0.0041518  -0.0014509]\n",
      "\u001b[34m\u001b[1mtrain: \u001b[0mWARNING  C:\\yolocmapmodel\\archive\\data\\images\\train\\000003514.jpg: ignoring corrupt image/label: negative label values [ -0.0041518   -0.001317]\n",
      "\u001b[34m\u001b[1mtrain: \u001b[0mWARNING  C:\\yolocmapmodel\\archive\\data\\images\\train\\000003515.jpg: ignoring corrupt image/label: negative label values [  -0.001317]\n",
      "\u001b[34m\u001b[1mtrain: \u001b[0mWARNING  C:\\yolocmapmodel\\archive\\data\\images\\train\\000003526.jpg: ignoring corrupt image/label: negative label values [-0.00078125]\n",
      "\u001b[34m\u001b[1mtrain: \u001b[0mWARNING  C:\\yolocmapmodel\\archive\\data\\images\\train\\000003527.jpg: ignoring corrupt image/label: negative label values [-0.00078125]\n",
      "\u001b[34m\u001b[1mtrain: \u001b[0mWARNING  C:\\yolocmapmodel\\archive\\data\\images\\train\\000003549.jpg: ignoring corrupt image/label: negative label values [  -0.001875]\n",
      "\u001b[34m\u001b[1mtrain: \u001b[0mWARNING  C:\\yolocmapmodel\\archive\\data\\images\\train\\000003551.jpg: ignoring corrupt image/label: negative label values [-0.00095982]\n",
      "\u001b[34m\u001b[1mtrain: \u001b[0mWARNING  C:\\yolocmapmodel\\archive\\data\\images\\train\\000003552.jpg: ignoring corrupt image/label: negative label values [  -0.001875]\n",
      "\u001b[34m\u001b[1mtrain: \u001b[0mWARNING  C:\\yolocmapmodel\\archive\\data\\images\\train\\000003553.jpg: ignoring corrupt image/label: negative label values [-0.00095982  -0.0033929]\n",
      "\u001b[34m\u001b[1mtrain: \u001b[0mWARNING  C:\\yolocmapmodel\\archive\\data\\images\\train\\000003572.jpg: ignoring corrupt image/label: negative label values [ -0.0019866  -0.0038839]\n",
      "\u001b[34m\u001b[1mtrain: \u001b[0mWARNING  C:\\yolocmapmodel\\archive\\data\\images\\train\\000003574.jpg: ignoring corrupt image/label: negative label values [-0.00055804]\n",
      "\u001b[34m\u001b[1mtrain: \u001b[0mWARNING  C:\\yolocmapmodel\\archive\\data\\images\\train\\000003575.jpg: ignoring corrupt image/label: negative label values [ -0.0019866  -0.0038839  -0.0022321]\n",
      "\u001b[34m\u001b[1mtrain: \u001b[0mWARNING  C:\\yolocmapmodel\\archive\\data\\images\\train\\000003576.jpg: ignoring corrupt image/label: negative label values [-0.00055804 -0.00022321]\n",
      "\u001b[34m\u001b[1mtrain: \u001b[0mWARNING  C:\\yolocmapmodel\\archive\\data\\images\\train\\000003579.jpg: ignoring corrupt image/label: negative label values [-0.00022321]\n",
      "\u001b[34m\u001b[1mtrain: \u001b[0mWARNING  C:\\yolocmapmodel\\archive\\data\\images\\train\\000003581.jpg: ignoring corrupt image/label: negative label values [  -0.003817]\n",
      "\u001b[34m\u001b[1mtrain: \u001b[0mWARNING  C:\\yolocmapmodel\\archive\\data\\images\\train\\000003583.jpg: ignoring corrupt image/label: negative label values [  -0.003817]\n",
      "\u001b[34m\u001b[1mtrain: \u001b[0mWARNING  C:\\yolocmapmodel\\archive\\data\\images\\train\\000003586.jpg: ignoring corrupt image/label: negative label values [ -0.0032366  -0.0030134  -0.0033929]\n",
      "\u001b[34m\u001b[1mtrain: \u001b[0mWARNING  C:\\yolocmapmodel\\archive\\data\\images\\train\\000003590.jpg: ignoring corrupt image/label: negative label values [ -0.0019196]\n",
      "\u001b[34m\u001b[1mtrain: \u001b[0mWARNING  C:\\yolocmapmodel\\archive\\data\\images\\train\\000003593.jpg: ignoring corrupt image/label: negative label values [ -0.0019196  -0.0016071 -0.00087054]\n",
      "\u001b[34m\u001b[1mtrain: \u001b[0mWARNING  C:\\yolocmapmodel\\archive\\data\\images\\train\\000003594.jpg: ignoring corrupt image/label: negative label values [ -0.0016071 -0.00087054]\n",
      "\u001b[34m\u001b[1mtrain: \u001b[0mWARNING  C:\\yolocmapmodel\\archive\\data\\images\\train\\000003614.jpg: ignoring corrupt image/label: negative label values [-0.00015625  -0.0030357]\n",
      "\u001b[34m\u001b[1mtrain: \u001b[0mWARNING  C:\\yolocmapmodel\\archive\\data\\images\\train\\000003616.jpg: ignoring corrupt image/label: negative label values [-0.00026786]\n",
      "\u001b[34m\u001b[1mtrain: \u001b[0mWARNING  C:\\yolocmapmodel\\archive\\data\\images\\train\\000003617.jpg: ignoring corrupt image/label: negative label values [ -0.0038393 -0.00073661  -0.0040179]\n",
      "\u001b[34m\u001b[1mtrain: \u001b[0mWARNING  C:\\yolocmapmodel\\archive\\data\\images\\train\\000003618.jpg: ignoring corrupt image/label: negative label values [ -0.0042411]\n",
      "\u001b[34m\u001b[1mtrain: \u001b[0mWARNING  C:\\yolocmapmodel\\archive\\data\\images\\train\\000003619.jpg: ignoring corrupt image/label: negative label values [-0.00026786]\n",
      "\u001b[34m\u001b[1mtrain: \u001b[0mWARNING  C:\\yolocmapmodel\\archive\\data\\images\\train\\000003620.jpg: ignoring corrupt image/label: negative label values [ -0.0003125]\n",
      "\u001b[34m\u001b[1mtrain: \u001b[0mWARNING  C:\\yolocmapmodel\\archive\\data\\images\\train\\000003621.jpg: ignoring corrupt image/label: negative label values [-0.00069196  -0.0027679]\n",
      "\u001b[34m\u001b[1mtrain: \u001b[0mWARNING  C:\\yolocmapmodel\\archive\\data\\images\\train\\000003623.jpg: ignoring corrupt image/label: negative label values [ -0.0003125]\n",
      "\u001b[34m\u001b[1mtrain: \u001b[0mWARNING  C:\\yolocmapmodel\\archive\\data\\images\\train\\000003624.jpg: ignoring corrupt image/label: negative label values [ -0.0037054]\n",
      "\u001b[34m\u001b[1mtrain: \u001b[0mWARNING  C:\\yolocmapmodel\\archive\\data\\images\\train\\000003626.jpg: ignoring corrupt image/label: negative label values [ -0.0037054]\n",
      "\u001b[34m\u001b[1mtrain: \u001b[0mWARNING  C:\\yolocmapmodel\\archive\\data\\images\\train\\000003630.jpg: ignoring corrupt image/label: negative label values [ -0.0037054]\n",
      "\u001b[34m\u001b[1mtrain: \u001b[0mWARNING  C:\\yolocmapmodel\\archive\\data\\images\\train\\000003633.jpg: ignoring corrupt image/label: negative label values [ -0.0037054  -0.0019196]\n",
      "\u001b[34m\u001b[1mtrain: \u001b[0mWARNING  C:\\yolocmapmodel\\archive\\data\\images\\train\\000003634.jpg: ignoring corrupt image/label: negative label values [ -0.0019196]\n",
      "\u001b[34m\u001b[1mtrain: \u001b[0mWARNING  C:\\yolocmapmodel\\archive\\data\\images\\train\\000003640.jpg: ignoring corrupt image/label: negative label values [ -0.0023884 -0.00058036]\n",
      "\u001b[34m\u001b[1mtrain: \u001b[0mWARNING  C:\\yolocmapmodel\\archive\\data\\images\\train\\000003653.jpg: ignoring corrupt image/label: negative label values [ -0.0015402  -0.0042634  -0.0038616  -0.0040179   -0.001942]\n",
      "\u001b[34m\u001b[1mtrain: \u001b[0mWARNING  C:\\yolocmapmodel\\archive\\data\\images\\train\\000003655.jpg: ignoring corrupt image/label: negative label values [ -0.0015402   -0.004442 -0.00040179  -0.0017857   -0.001942]\n",
      "\u001b[34m\u001b[1mtrain: \u001b[0mWARNING  C:\\yolocmapmodel\\archive\\data\\images\\train\\000003656.jpg: ignoring corrupt image/label: negative label values [ -0.0038393  -0.0042634 -0.00073661  -0.0040179  -0.0038616  -0.0040179]\n",
      "\u001b[34m\u001b[1mtrain: \u001b[0mWARNING  C:\\yolocmapmodel\\archive\\data\\images\\train\\000003657.jpg: ignoring corrupt image/label: negative label values [-0.00069196  -0.0042411]\n",
      "\u001b[34m\u001b[1mtrain: \u001b[0mWARNING  C:\\yolocmapmodel\\archive\\data\\images\\train\\000003658.jpg: ignoring corrupt image/label: negative label values [  -0.004442 -0.00040179  -0.0017857]\n",
      "\u001b[34m\u001b[1mtrain: \u001b[0mWARNING  C:\\yolocmapmodel\\archive\\data\\images\\train\\000003659.jpg: ignoring corrupt image/label: negative label values [-0.00069196]\n",
      "\u001b[34m\u001b[1mtrain: \u001b[0mWARNING  C:\\yolocmapmodel\\archive\\data\\images\\train\\000003660.jpg: ignoring corrupt image/label: negative label values [-0.00069196  -0.0027679]\n",
      "\u001b[34m\u001b[1mtrain: \u001b[0mWARNING  C:\\yolocmapmodel\\archive\\data\\images\\train\\000003661.jpg: ignoring corrupt image/label: negative label values [ -0.0030134]\n",
      "\u001b[34m\u001b[1mtrain: \u001b[0mWARNING  C:\\yolocmapmodel\\archive\\data\\images\\train\\000003664.jpg: ignoring corrupt image/label: negative label values [ -0.0030134   -0.004375  -0.0019643]\n",
      "\u001b[34m\u001b[1mtrain: \u001b[0mWARNING  C:\\yolocmapmodel\\archive\\data\\images\\train\\000003665.jpg: ignoring corrupt image/label: negative label values [ -0.0026786]\n",
      "\u001b[34m\u001b[1mtrain: \u001b[0mWARNING  C:\\yolocmapmodel\\archive\\data\\images\\train\\000003666.jpg: ignoring corrupt image/label: negative label values [  -0.004375  -0.0019643]\n",
      "\u001b[34m\u001b[1mtrain: \u001b[0mWARNING  C:\\yolocmapmodel\\archive\\data\\images\\train\\000003671.jpg: ignoring corrupt image/label: negative label values [-0.00058036]\n",
      "\u001b[34m\u001b[1mtrain: \u001b[0mWARNING  C:\\yolocmapmodel\\archive\\data\\images\\train\\000003680.jpg: ignoring corrupt image/label: negative label values [ -0.0023884]\n",
      "\u001b[34m\u001b[1mtrain: \u001b[0mWARNING  C:\\yolocmapmodel\\archive\\data\\images\\train\\000003690.jpg: ignoring corrupt image/label: negative label values [ -0.0013616]\n",
      "\u001b[34m\u001b[1mtrain: \u001b[0mWARNING  C:\\yolocmapmodel\\archive\\data\\images\\train\\000003691.jpg: ignoring corrupt image/label: negative label values [ -0.0013616]\n",
      "\u001b[34m\u001b[1mtrain: \u001b[0mWARNING  C:\\yolocmapmodel\\archive\\data\\images\\train\\000003697.jpg: ignoring corrupt image/label: negative label values [-0.00075893]\n",
      "\u001b[34m\u001b[1mtrain: \u001b[0mWARNING  C:\\yolocmapmodel\\archive\\data\\images\\train\\000003732.jpg: ignoring corrupt image/label: negative label values [-0.00075893]\n"
     ]
    },
    {
     "name": "stderr",
     "output_type": "stream",
     "text": [
      "\n"
     ]
    },
    {
     "name": "stdout",
     "output_type": "stream",
     "text": [
      "Plotting labels to runs\\detect\\train4\\labels.jpg... \n",
      "\u001b[34m\u001b[1moptimizer:\u001b[0m 'optimizer=auto' found, ignoring 'lr0=0.01' and 'momentum=0.937' and determining best 'optimizer', 'lr0' and 'momentum' automatically... \n",
      "\u001b[34m\u001b[1moptimizer:\u001b[0m AdamW(lr=0.002, momentum=0.9) with parameter groups 57 weight(decay=0.0), 64 weight(decay=0.0005), 63 bias(decay=0.0)\n",
      "\u001b[34m\u001b[1mTensorBoard: \u001b[0mmodel graph visualization added \n",
      "Image sizes 640 train, 640 val\n",
      "Using 0 dataloader workers\n",
      "Logging results to \u001b[1mruns\\detect\\train4\u001b[0m\n",
      "Starting training for 100 epochs...\n",
      "\n",
      "      Epoch    GPU_mem   box_loss   cls_loss   dfl_loss  Instances       Size\n"
     ]
    },
    {
     "name": "stderr",
     "output_type": "stream",
     "text": [
      "      1/100         0G      4.161      6.923      2.527         17        640: 100%|██████████| 222/222 [28:20<00:00,  7.66s/it]\n",
      "                 Class     Images  Instances      Box(P          R      mAP50  mAP50-95): 100%|██████████| 111/111 [12:11<00:00,  6.59s/it]\n"
     ]
    },
    {
     "name": "stdout",
     "output_type": "stream",
     "text": [
      "                   all       3542      10048      0.236      0.276      0.157     0.0319\n",
      "\n",
      "      Epoch    GPU_mem   box_loss   cls_loss   dfl_loss  Instances       Size\n"
     ]
    },
    {
     "name": "stderr",
     "output_type": "stream",
     "text": [
      "      2/100         0G       2.61      2.863      1.549         16        640: 100%|██████████| 222/222 [28:19<00:00,  7.65s/it]\n",
      "                 Class     Images  Instances      Box(P          R      mAP50  mAP50-95): 100%|██████████| 111/111 [11:04<00:00,  5.98s/it]\n"
     ]
    },
    {
     "name": "stdout",
     "output_type": "stream",
     "text": [
      "                   all       3542      10048      0.332      0.348       0.26     0.0788\n",
      "\n",
      "      Epoch    GPU_mem   box_loss   cls_loss   dfl_loss  Instances       Size\n"
     ]
    },
    {
     "name": "stderr",
     "output_type": "stream",
     "text": [
      "      3/100         0G      2.284      2.144      1.393          7        640: 100%|██████████| 222/222 [27:33<00:00,  7.45s/it]\n",
      "                 Class     Images  Instances      Box(P          R      mAP50  mAP50-95): 100%|██████████| 111/111 [11:10<00:00,  6.04s/it]\n"
     ]
    },
    {
     "name": "stdout",
     "output_type": "stream",
     "text": [
      "                   all       3542      10048        0.7      0.557      0.604      0.253\n",
      "\n",
      "      Epoch    GPU_mem   box_loss   cls_loss   dfl_loss  Instances       Size\n"
     ]
    },
    {
     "name": "stderr",
     "output_type": "stream",
     "text": [
      "      4/100         0G      2.153      1.921      1.316         60        640:  36%|███▌      | 79/222 [09:55<18:37,  7.81s/it]"
     ]
    }
   ],
   "source": [
    "results = model.train(data='config.yaml', epochs = 100) # train new model"
   ]
  },
  {
   "cell_type": "markdown",
   "metadata": {},
   "source": [
    "### Validate Model"
   ]
  },
  {
   "cell_type": "code",
   "execution_count": 1,
   "metadata": {},
   "outputs": [
    {
     "name": "stdout",
     "output_type": "stream",
     "text": [
      "Ultralytics YOLOv8.2.73  Python-3.12.3 torch-2.4.0 CUDA:0 (NVIDIA GeForce GTX 1070, 8192MiB)\n",
      "YOLOv8n summary (fused): 168 layers, 3,007,598 parameters, 0 gradients\n"
     ]
    },
    {
     "name": "stderr",
     "output_type": "stream",
     "text": [
      "\u001b[34m\u001b[1mval: \u001b[0mScanning C:\\yolocmapmodel2\\valid\\labels.cache... 99 images, 0 backgrounds, 0 corrupt: 100%|██████████| 99/99 [00:00<?, ?it/s]\n",
      "                 Class     Images  Instances      Box(P          R      mAP50  mAP50-95): 100%|██████████| 7/7 [00:11<00:00,  1.63s/it]\n"
     ]
    },
    {
     "name": "stdout",
     "output_type": "stream",
     "text": [
      "                   all         99        302      0.505      0.516      0.386      0.217\n",
      "           camping car          2          2      0.392          1      0.663      0.382\n",
      "                   car         99        281      0.771      0.945      0.915      0.508\n",
      "                 other          2          4          1          0     0.0311     0.0129\n",
      "                pickup          6          6      0.104        0.5      0.186      0.135\n",
      "                 truck          3          4      0.458       0.25      0.145     0.0319\n",
      "                   van          5          5      0.308        0.4      0.374      0.234\n",
      "Speed: 2.8ms preprocess, 12.4ms inference, 0.0ms loss, 5.3ms postprocess per image\n",
      "Results saved to \u001b[1mruns\\detect\\val\u001b[0m\n"
     ]
    },
    {
     "data": {
      "text/plain": [
       "array([    0.21725,     0.38161,     0.50793,     0.21725,    0.012856,     0.13516,     0.21725,     0.21725,    0.031886,     0.23405])"
      ]
     },
     "execution_count": 1,
     "metadata": {},
     "output_type": "execute_result"
    }
   ],
   "source": [
    "from ultralytics import YOLO\n",
    "\n",
    "# load model\n",
    "model = YOLO('runs/detect/train222/weights/best.pt')\n",
    "\n",
    "#validation\n",
    "metrics = model.val()\n",
    "metrics.box.map\n",
    "metrics.box.map50\n",
    "metrics.box.map75\n",
    "metrics.box.maps"
   ]
  },
  {
   "cell_type": "markdown",
   "metadata": {},
   "source": []
  },
  {
   "cell_type": "markdown",
   "metadata": {},
   "source": [
    "### Exporting To TFLITE"
   ]
  },
  {
   "cell_type": "code",
   "execution_count": 1,
   "metadata": {},
   "outputs": [
    {
     "name": "stdout",
     "output_type": "stream",
     "text": [
      "WARNING  Ultralytics settings reset to default values. This may be due to a possible problem with your settings or a recent ultralytics package update. \n",
      "View settings with 'yolo settings' or at 'C:\\Users\\PCYas\\AppData\\Roaming\\Ultralytics\\settings.yaml'\n",
      "Update settings with 'yolo settings key=value', i.e. 'yolo settings runs_dir=path/to/dir'. For help see https://docs.ultralytics.com/quickstart/#ultralytics-settings.\n",
      "Ultralytics YOLOv8.2.92  Python-3.10.14 torch-2.4.1+cpu CPU (Intel Core(TM) i5-6500 3.20GHz)\n",
      "YOLOv8n summary (fused): 168 layers, 3,005,843 parameters, 0 gradients, 8.1 GFLOPs\n",
      "\n",
      "\u001b[34m\u001b[1mPyTorch:\u001b[0m starting from 'runs\\detect\\train4\\weights\\best.pt' with input shape (1, 3, 640, 640) BCHW and output shape(s) (1, 5, 8400) (17.6 MB)\n",
      "\n",
      "\u001b[34m\u001b[1mTensorFlow SavedModel:\u001b[0m starting export with tensorflow 2.17.0...\n",
      "WARNING:tensorflow:From c:\\Users\\PCYas\\anaconda3\\envs\\yolov8-env\\lib\\site-packages\\tf_keras\\src\\losses.py:2976: The name tf.losses.sparse_softmax_cross_entropy is deprecated. Please use tf.compat.v1.losses.sparse_softmax_cross_entropy instead.\n",
      "\n",
      "\n",
      "\u001b[34m\u001b[1mONNX:\u001b[0m starting export with onnx 1.16.2 opset 19...\n",
      "\u001b[34m\u001b[1mONNX:\u001b[0m slimming with onnxslim 0.1.32...\n",
      "\u001b[34m\u001b[1mONNX:\u001b[0m export success  2.2s, saved as 'runs\\detect\\train4\\weights\\best.onnx' (11.8 MB)\n",
      "\u001b[34m\u001b[1mTensorFlow SavedModel:\u001b[0m starting TFLite export with onnx2tf 1.22.3...\n",
      "\u001b[34m\u001b[1mTensorFlow SavedModel:\u001b[0m export success  34.1s, saved as 'runs\\detect\\train4\\weights\\best_saved_model' (29.5 MB)\n",
      "\n",
      "\u001b[34m\u001b[1mTensorFlow Lite:\u001b[0m starting export with tensorflow 2.17.0...\n",
      "\u001b[34m\u001b[1mTensorFlow Lite:\u001b[0m export success  0.0s, saved as 'runs\\detect\\train4\\weights\\best_saved_model\\best_float32.tflite' (11.7 MB)\n",
      "\n",
      "Export complete (38.1s)\n",
      "Results saved to \u001b[1mC:\\Users\\PCYas\\Documents\\GitHub\\YOLOCMap\\runs\\detect\\train4\\weights\u001b[0m\n",
      "Predict:         yolo predict task=detect model=runs\\detect\\train4\\weights\\best_saved_model\\best_float32.tflite imgsz=640  \n",
      "Validate:        yolo val task=detect model=runs\\detect\\train4\\weights\\best_saved_model\\best_float32.tflite imgsz=640 data=config.yaml  \n",
      "Visualize:       https://netron.app\n"
     ]
    },
    {
     "data": {
      "text/plain": [
       "'runs\\\\detect\\\\train4\\\\weights\\\\best_saved_model\\\\best_float32.tflite'"
      ]
     },
     "execution_count": 1,
     "metadata": {},
     "output_type": "execute_result"
    }
   ],
   "source": [
    "from ultralytics import YOLO\n",
    "\n",
    "model = YOLO('runs/detect/train4/weights/best.pt')\n",
    "\n",
    "model.export(format='tflite')"
   ]
  },
  {
   "cell_type": "code",
   "execution_count": 3,
   "metadata": {},
   "outputs": [
    {
     "name": "stdout",
     "output_type": "stream",
     "text": [
      "Input Shape: [  1 640 640   3]\n",
      "Output Shape: [   1    5 8400]\n"
     ]
    }
   ],
   "source": [
    "import tensorflow as tf\n",
    "\n",
    "# Load the TFLite model\n",
    "interpreter = tf.lite.Interpreter(model_path=\"runs/detect/train4/weights/best_saved_model/best_float32.tflite\")\n",
    "interpreter.allocate_tensors()\n",
    "\n",
    "# Get input details\n",
    "input_details = interpreter.get_input_details()\n",
    "\n",
    "# Get output details\n",
    "output_details = interpreter.get_output_details()\n",
    "\n",
    "# Print input shapes\n",
    "for input_tensor in input_details:\n",
    "    print(\"Input Shape:\", input_tensor['shape'])\n",
    "\n",
    "# Print output shapes\n",
    "for output_tensor in output_details:\n",
    "    print(\"Output Shape:\", output_tensor['shape'])"
   ]
  },
  {
   "cell_type": "code",
   "execution_count": 1,
   "metadata": {},
   "outputs": [],
   "source": [
    "import os\n",
    "\n",
    "def remove_class_from_annotations(folder_path, class_id_to_remove):\n",
    "    # Loop through all annotation files in the folder\n",
    "    for filename in os.listdir(folder_path):\n",
    "        if filename.endswith(\".txt\"):\n",
    "            file_path = os.path.join(folder_path, filename)\n",
    "\n",
    "            # Read the annotation file\n",
    "            with open(file_path, \"r\") as file:\n",
    "                lines = file.readlines()\n",
    "\n",
    "            # Filter out lines where the class ID is the one you want to remove\n",
    "            filtered_lines = [line for line in lines if not line.startswith(str(class_id_to_remove) + \" \")]\n",
    "\n",
    "            # Overwrite the file with filtered content\n",
    "            with open(file_path, \"w\") as file:\n",
    "                file.writelines(filtered_lines)\n",
    "\n",
    "# Specify the path to your annotations and the class ID you want to remove (1 for pools)\n",
    "annotations_folder = \"C:/yolocmapmodel/archive/data/labels/train\"\n",
    "remove_class_from_annotations(annotations_folder, class_id_to_remove=1)\n"
   ]
  }
 ],
 "metadata": {
  "kernelspec": {
   "display_name": "yolov8-env",
   "language": "python",
   "name": "python3"
  },
  "language_info": {
   "codemirror_mode": {
    "name": "ipython",
    "version": 3
   },
   "file_extension": ".py",
   "mimetype": "text/x-python",
   "name": "python",
   "nbconvert_exporter": "python",
   "pygments_lexer": "ipython3",
   "version": "3.10.14"
  }
 },
 "nbformat": 4,
 "nbformat_minor": 2
}
